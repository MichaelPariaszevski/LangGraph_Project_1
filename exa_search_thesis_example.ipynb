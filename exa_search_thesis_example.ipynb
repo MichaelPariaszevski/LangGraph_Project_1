{
 "cells": [
  {
   "cell_type": "code",
   "execution_count": 3,
   "metadata": {},
   "outputs": [
    {
     "data": {
      "text/plain": [
       "True"
      ]
     },
     "execution_count": 3,
     "metadata": {},
     "output_type": "execute_result"
    }
   ],
   "source": [
    "from dotenv import load_dotenv, find_dotenv \n",
    "\n",
    "load_dotenv(find_dotenv(), override = True)"
   ]
  },
  {
   "cell_type": "code",
   "execution_count": 4,
   "metadata": {},
   "outputs": [],
   "source": [
    "from langchain_exa import ExaSearchRetriever\n",
    "from langchain_openai import ChatOpenAI \n",
    "\n",
    "exa_search_retriever = ExaSearchRetriever(k = 1, highlights = False, type = \"keyword\") \n",
    "\n",
    "llm = ChatOpenAI(model = \"gpt-4o-mini\", temperature = 0)"
   ]
  },
  {
   "cell_type": "code",
   "execution_count": 5,
   "metadata": {},
   "outputs": [],
   "source": [
    "from typing_extensions import TypedDict \n",
    "from typing import Annotated \n",
    "from operator import add \n",
    "\n",
    "class Custom_State(TypedDict): \n",
    "    question: str \n",
    "    answer: str \n",
    "    messages: Annotated[list[str], add]"
   ]
  },
  {
   "cell_type": "code",
   "execution_count": 52,
   "metadata": {},
   "outputs": [],
   "source": [
    "def exa_search_tool_1(thesis_statement: str):\n",
    "    \"\"\"Search for context from online sources. \n",
    "    This search should use the whole thesis statement as the input.\n",
    "    This tool should return context for the question that was asked and the accompanying url for the context. \n",
    "    Include the url at the end of the context.\n",
    "    \n",
    "    Args: \n",
    "        thesis_statement: input message\n",
    "    \"\"\"\n",
    "    exa_search_retriever = ExaSearchRetriever(k = 1, highlights = False, type = \"keyword\") \n",
    "    output = exa_search_retriever.invoke(thesis_statement) \n",
    "    return output[0].page_content + output[0].metadata[\"url\"]"
   ]
  },
  {
   "cell_type": "code",
   "execution_count": 53,
   "metadata": {},
   "outputs": [],
   "source": [
    "llm_with_tools = ChatOpenAI(model = \"gpt-4o-mini\", temperature = 0).bind_tools([exa_search_tool_1])"
   ]
  },
  {
   "cell_type": "code",
   "execution_count": 54,
   "metadata": {},
   "outputs": [],
   "source": [
    "from langchain_core.messages import SystemMessage, HumanMessage\n",
    "from langgraph.graph import MessagesState\n",
    "from langgraph.graph import StateGraph, START, END\n",
    "\n",
    "sys_msg = SystemMessage(content=\"\"\"\n",
    "                        You are a helpful assistant tasked with analyzing text gathered from the web in order to aid the user in completing their research paper based on their thesis statement.\n",
    "                        Use the entire thesis statement as the input for your web search. \n",
    "                        Return reasoning as to why the website, article, or academic paper found through the web search assists the user in writing their research paper. \n",
    "                        You must return specific quotations from the web search that the user can utilize within their own research paper. \n",
    "                        At the very end, include the url from the web search that was used to gather all of this information.\n",
    "                        Display all reasoning in a numbered list format with the urls for each piece of reasoning at the end of the line. \n",
    "                        ONLY ACCEPT trust-worthy sources from the web search such as Google Scholar, JSTOR, ScienceDirect, and other academic databases. \n",
    "                        If a source does not seem to be trustworthy, skip the source and execute the search again, for a maximum of 3 iterations.\n",
    "                        DO NOT write the user's research paper for them. \"\"\")\n",
    "\n",
    "def assistant_node(state: Custom_State): \n",
    "    return {\"messages\": [llm_with_tools.invoke([sys_msg] + state[\"messages\"])]}"
   ]
  },
  {
   "cell_type": "code",
   "execution_count": 55,
   "metadata": {},
   "outputs": [],
   "source": [
    "def tool_conditional_edge(state: Custom_State): \n",
    "    if hasattr(state[\"messages\"][-1], \"tool_calls\") and len(state[\"messages\"][-1].tool_calls) > 0: \n",
    "        return \"exa_tool\"  \n",
    "    else: \n",
    "        return END"
   ]
  },
  {
   "cell_type": "code",
   "execution_count": 56,
   "metadata": {},
   "outputs": [
    {
     "data": {
      "image/jpeg": "[encoded data removed]",
      "text/plain": [
       "<IPython.core.display.Image object>"
      ]
     },
     "metadata": {},
     "output_type": "display_data"
    }
   ],
   "source": [
    "from IPython.display import Image, display\n",
    "from langgraph.prebuilt import ToolNode # tools_condition is not used here\n",
    "\n",
    "builder = StateGraph(Custom_State)\n",
    "\n",
    "builder.add_node(\"assistant\", assistant_node) \n",
    "builder.add_node(\"exa_tool\", ToolNode([exa_search_tool_1]))\n",
    "\n",
    "builder.add_edge(START, \"assistant\")\n",
    "builder.add_conditional_edges(\"assistant\", tool_conditional_edge)\n",
    "builder.add_edge(\"exa_tool\", \"assistant\") \n",
    "\n",
    "graph = builder.compile() \n",
    "\n",
    "display(Image(graph.get_graph(xray = True).draw_mermaid_png()))"
   ]
  },
  {
   "cell_type": "code",
   "execution_count": 63,
   "metadata": {},
   "outputs": [],
   "source": [
    "messages = [HumanMessage(content = \"Immigration enriches receiving countries culturally and economically, outweighing any perceived social or economic burdens.\")] \n",
    "complete_message = graph.invoke({\"messages\": messages})"
   ]
  },
  {
   "cell_type": "code",
   "execution_count": 64,
   "metadata": {},
   "outputs": [
    {
     "name": "stdout",
     "output_type": "stream",
     "text": [
      "{'messages': [HumanMessage(content='Immigration enriches receiving countries culturally and economically, outweighing any perceived social or economic burdens.', additional_kwargs={}, response_metadata={}), AIMessage(content='', additional_kwargs={'tool_calls': [{'id': 'call_qnDOaYtj8kPeSYOpyphkT5wI', 'function': {'arguments': '{\"thesis_statement\":\"Immigration enriches receiving countries culturally and economically, outweighing any perceived social or economic burdens.\"}', 'name': 'exa_search_tool_1'}, 'type': 'function'}], 'refusal': None}, response_metadata={'token_usage': {'completion_tokens': 38, 'prompt_tokens': 327, 'total_tokens': 365, 'completion_tokens_details': {'audio_tokens': None, 'reasoning_tokens': 0}, 'prompt_tokens_details': {'audio_tokens': None, 'cached_tokens': 0}}, 'model_name': 'gpt-4o-mini-2024-07-18', 'system_fingerprint': 'fp_f85bea6784', 'finish_reason': 'tool_calls', 'logprobs': None}, id='run-aca94f6f-59b5-489f-a1d1-f742fa1fd476-0', tool_calls=[{'name': 'exa_search_tool_1', 'args': {'thesis_statement': 'Immigration enriches receiving countries culturally and economically, outweighing any perceived social or economic burdens.'}, 'id': 'call_qnDOaYtj8kPeSYOpyphkT5wI', 'type': 'tool_call'}], usage_metadata={'input_tokens': 327, 'output_tokens': 38, 'total_tokens': 365, 'input_token_details': {'cache_read': 0}, 'output_token_details': {'reasoning': 0}}), ToolMessage(content='The rich have many assets; the poor have only one—their labor. Because good jobs are slow to come to the poor, the poor must move to find productive employment. Migration is, therefore, the most effective way to reduce poverty and share prosperity, the twin goals of the World Bank. Not surprisingly, all development experiences and growth episodes in history have involved a reallocation of labor across space and sectors within countries.\\nAccording to   Moving for Prosperity: Global Migration and Labor Markets  , however, some of the biggest gains come from the movement of people between countries. Migrants’ incomes increase three to six times when they move from lower- to higher-income countries. The average income gain for a young unskilled worker moving to the United States is estimated to be about $14,000 per year. If we were to double the number of immigrants in high-income countries by moving 100 million young people from developing countries, the annual income gain would be $1.4 trillion. This global welfare gain dwarfs the gains from the removal of all restrictions on international flows of goods and capital.\\nThese gains remain largely notional because most people cannot move. Only about 3 percent of the world’s population live in a country in which they were not born, a proportion that has not changed much over six decades of otherwise unprecedented global integration, via trade, investment, and knowledge flows. Distances in space, culture, and language are inherent impediments to mobility, imposing an estimated 30–50 percent tax on migrant wages. The most important barriers are, however, national borders. The tax equivalent of an international border is over 150 percent for young unskilled workers from most developing countries, more than three times larger than those imposed by physical and cultural dimensions of distance.\\nThe gains for immigrants do not come at the expense of host countries. Farmers in destinations from New Zealand to New Mexico thrive thanks to the hard work of immigrant workers. Institutions at the technology frontier—from CERN (the European Organization for Nuclear Research) in Geneva to Silicon Valley in California— innovate thanks to the ingenuity of immigrants. Native-born workers also gain on average as they gravitate away from the occupations that immigrants are willing to perform, because they benefit from the complementary skills that immigrants bring, or because they are consumers of the products and services immigrants provide. Almost every empirical study finds that increased labor mobility leads to large gains for the immigrants and positive overall gains for the destination country.\\nThat creates a puzzle. The compelling economic evidence on the economic gains and social benefits of migration sits awkwardly with stark political opposition to immigration. Respondents to political opinion polls rate the arrival of immigrants in their countries as among their worst fears. Citizens worried about what migrants and refugees would do to jobs and wages, welfare programs, crime, schools, and their national identity. Frustrated by the public’s disregard of their empirical findings, many economists attribute political opposition to cultural and social factors, including xenophobia.\\nThis Policy Research Report,   Moving for Prosperity: Global Migration and Labor Markets  , is an attempt to address this tension between the academic research and the public discourse by focusing on the economic evidence. We suggest a labor market–oriented, economically motivated rationale to the political opposition to migration. Global migration patterns lead to high concentrations of immigrants in certain places, industries, and occupations. For example, the top 10 destination countries account for 60 percent of global immigration. In the United States four states host half of all immigrants, and 10 counties host half of the immigrants in these four states. Immigrants are further concentrated in a narrow set of industries and occupations in specific geographic regions. The same pattern repeats itself in almost every major destination country. It is these geographic and labor market concentrations of immigrants that lead to increased anxiety, insecurity, and potentially significant short-term disruptions among native-born workers. Furthermore, the positive effects and benefits in the destination labor markets tend to be more diffuse whereas the costs are more concentrated and easily attributable to immigration.\\nUnderstanding (and empathizing with) these legitimate economic concerns is critical to informed and effective policy making. The goal should be to ease the costs of short-term dislocations of native-born workers and distribute more widely the economic benefits generated by labor mobility. Proactive interventions to ease the pain and share the gain from immigration are essential to avoid draconian restrictions on immigration that will hurt everybody. Ignoring the massive economic gains of immigration would be akin to leaving billions of hundred-dollar bills on the sidewalk.\\n  TABLE OF CONTENTS  \\nChapter 1: Patterns of Global Migration\\nChapter 2: The Economic Drivers of Migration Decisions\\nChapter 3: The Wage and Employment Impacts of Migration\\nChapter 4: Longer-Term Dynamics: Immigrant Economic Adjustment and Native Responses\\nChapter 5: High-Skilled Migration\\n  PRAISE FOR THE REPORT:https://www.worldbank.org/en/research/publication/moving-for-prosperity', name='exa_search_tool_1', tool_call_id='call_qnDOaYtj8kPeSYOpyphkT5wI'), AIMessage(content='1. The report \"Moving for Prosperity: Global Migration and Labor Markets\" highlights that \"migrants’ incomes increase three to six times when they move from lower- to higher-income countries,\" which supports the thesis by demonstrating the significant economic benefits that immigration brings to receiving countries. This income increase not only benefits the migrants but also contributes to the overall economy of the host country. [Source: https://www.worldbank.org/en/research/publication/moving-for-prosperity]\\n\\n2. The report states, \"The gains for immigrants do not come at the expense of host countries,\" indicating that immigration can lead to mutual benefits for both immigrants and native-born workers. This directly supports the thesis by arguing that the perceived burdens of immigration are outweighed by the economic and cultural enrichment it provides. [Source: https://www.worldbank.org/en/research/publication/moving-for-prosperity]\\n\\n3. It is noted that \"almost every empirical study finds that increased labor mobility leads to large gains for the immigrants and positive overall gains for the destination country.\" This evidence reinforces the thesis by providing a strong empirical basis for the argument that immigration enriches receiving countries economically. [Source: https://www.worldbank.org/en/research/publication/moving-for-prosperity]\\n\\n4. The report also addresses the cultural aspect by mentioning that \"farmers in destinations from New Zealand to New Mexico thrive thanks to the hard work of immigrant workers,\" which illustrates how immigrants contribute to the cultural and economic fabric of their new communities. This supports the thesis by showing that immigration enhances cultural diversity and economic productivity. [Source: https://www.worldbank.org/en/research/publication/moving-for-prosperity]\\n\\n5. Finally, the report emphasizes the need for \"proactive interventions to ease the pain and share the gain from immigration,\" suggesting that while there may be challenges associated with immigration, the overall benefits can be maximized through thoughtful policy-making. This aligns with the thesis by advocating for a perspective that recognizes the positive contributions of immigration while addressing concerns. [Source: https://www.worldbank.org/en/research/publication/moving-for-prosperity]', additional_kwargs={'refusal': None}, response_metadata={'token_usage': {'completion_tokens': 437, 'prompt_tokens': 1369, 'total_tokens': 1806, 'completion_tokens_details': {'audio_tokens': None, 'reasoning_tokens': 0}, 'prompt_tokens_details': {'audio_tokens': None, 'cached_tokens': 0}}, 'model_name': 'gpt-4o-mini-2024-07-18', 'system_fingerprint': 'fp_f85bea6784', 'finish_reason': 'stop', 'logprobs': None}, id='run-b622d8c5-ce15-4e93-a6ff-f57f513de6fe-0', usage_metadata={'input_tokens': 1369, 'output_tokens': 437, 'total_tokens': 1806, 'input_token_details': {'cache_read': 0}, 'output_token_details': {'reasoning': 0}})]}\n",
      "--------------------------------------------------\n",
      "1. The report \"Moving for Prosperity: Global Migration and Labor Markets\" highlights that \"migrants’ incomes increase three to six times when they move from lower- to higher-income countries,\" which supports the thesis by demonstrating the significant economic benefits that immigration brings to receiving countries. This income increase not only benefits the migrants but also contributes to the overall economy of the host country. [Source: https://www.worldbank.org/en/research/publication/moving-for-prosperity]\n",
      "\n",
      "2. The report states, \"The gains for immigrants do not come at the expense of host countries,\" indicating that immigration can lead to mutual benefits for both immigrants and native-born workers. This directly supports the thesis by arguing that the perceived burdens of immigration are outweighed by the economic and cultural enrichment it provides. [Source: https://www.worldbank.org/en/research/publication/moving-for-prosperity]\n",
      "\n",
      "3. It is noted that \"almost every empirical study finds that increased labor mobility leads to large gains for the immigrants and positive overall gains for the destination country.\" This evidence reinforces the thesis by providing a strong empirical basis for the argument that immigration enriches receiving countries economically. [Source: https://www.worldbank.org/en/research/publication/moving-for-prosperity]\n",
      "\n",
      "4. The report also addresses the cultural aspect by mentioning that \"farmers in destinations from New Zealand to New Mexico thrive thanks to the hard work of immigrant workers,\" which illustrates how immigrants contribute to the cultural and economic fabric of their new communities. This supports the thesis by showing that immigration enhances cultural diversity and economic productivity. [Source: https://www.worldbank.org/en/research/publication/moving-for-prosperity]\n",
      "\n",
      "5. Finally, the report emphasizes the need for \"proactive interventions to ease the pain and share the gain from immigration,\" suggesting that while there may be challenges associated with immigration, the overall benefits can be maximized through thoughtful policy-making. This aligns with the thesis by advocating for a perspective that recognizes the positive contributions of immigration while addressing concerns. [Source: https://www.worldbank.org/en/research/publication/moving-for-prosperity]\n"
     ]
    }
   ],
   "source": [
    "print(complete_message) \n",
    "print(\"-\" * 50) \n",
    "print(complete_message[\"messages\"][-1].content)"
   ]
  },
  {
   "cell_type": "code",
   "execution_count": 65,
   "metadata": {},
   "outputs": [
    {
     "name": "stdout",
     "output_type": "stream",
     "text": [
      "================================\u001b[1m Human Message \u001b[0m=================================\n",
      "\n",
      "Immigration enriches receiving countries culturally and economically, outweighing any perceived social or economic burdens.\n",
      "==================================\u001b[1m Ai Message \u001b[0m==================================\n",
      "Tool Calls:\n",
      "  exa_search_tool_1 (call_qnDOaYtj8kPeSYOpyphkT5wI)\n",
      " Call ID: call_qnDOaYtj8kPeSYOpyphkT5wI\n",
      "  Args:\n",
      "    thesis_statement: Immigration enriches receiving countries culturally and economically, outweighing any perceived social or economic burdens.\n",
      "=================================\u001b[1m Tool Message \u001b[0m=================================\n",
      "Name: exa_search_tool_1\n",
      "\n",
      "The rich have many assets; the poor have only one—their labor. Because good jobs are slow to come to the poor, the poor must move to find productive employment. Migration is, therefore, the most effective way to reduce poverty and share prosperity, the twin goals of the World Bank. Not surprisingly, all development experiences and growth episodes in history have involved a reallocation of labor across space and sectors within countries.\n",
      "According to   Moving for Prosperity: Global Migration and Labor Markets  , however, some of the biggest gains come from the movement of people between countries. Migrants’ incomes increase three to six times when they move from lower- to higher-income countries. The average income gain for a young unskilled worker moving to the United States is estimated to be about $14,000 per year. If we were to double the number of immigrants in high-income countries by moving 100 million young people from developing countries, the annual income gain would be $1.4 trillion. This global welfare gain dwarfs the gains from the removal of all restrictions on international flows of goods and capital.\n",
      "These gains remain largely notional because most people cannot move. Only about 3 percent of the world’s population live in a country in which they were not born, a proportion that has not changed much over six decades of otherwise unprecedented global integration, via trade, investment, and knowledge flows. Distances in space, culture, and language are inherent impediments to mobility, imposing an estimated 30–50 percent tax on migrant wages. The most important barriers are, however, national borders. The tax equivalent of an international border is over 150 percent for young unskilled workers from most developing countries, more than three times larger than those imposed by physical and cultural dimensions of distance.\n",
      "The gains for immigrants do not come at the expense of host countries. Farmers in destinations from New Zealand to New Mexico thrive thanks to the hard work of immigrant workers. Institutions at the technology frontier—from CERN (the European Organization for Nuclear Research) in Geneva to Silicon Valley in California— innovate thanks to the ingenuity of immigrants. Native-born workers also gain on average as they gravitate away from the occupations that immigrants are willing to perform, because they benefit from the complementary skills that immigrants bring, or because they are consumers of the products and services immigrants provide. Almost every empirical study finds that increased labor mobility leads to large gains for the immigrants and positive overall gains for the destination country.\n",
      "That creates a puzzle. The compelling economic evidence on the economic gains and social benefits of migration sits awkwardly with stark political opposition to immigration. Respondents to political opinion polls rate the arrival of immigrants in their countries as among their worst fears. Citizens worried about what migrants and refugees would do to jobs and wages, welfare programs, crime, schools, and their national identity. Frustrated by the public’s disregard of their empirical findings, many economists attribute political opposition to cultural and social factors, including xenophobia.\n",
      "This Policy Research Report,   Moving for Prosperity: Global Migration and Labor Markets  , is an attempt to address this tension between the academic research and the public discourse by focusing on the economic evidence. We suggest a labor market–oriented, economically motivated rationale to the political opposition to migration. Global migration patterns lead to high concentrations of immigrants in certain places, industries, and occupations. For example, the top 10 destination countries account for 60 percent of global immigration. In the United States four states host half of all immigrants, and 10 counties host half of the immigrants in these four states. Immigrants are further concentrated in a narrow set of industries and occupations in specific geographic regions. The same pattern repeats itself in almost every major destination country. It is these geographic and labor market concentrations of immigrants that lead to increased anxiety, insecurity, and potentially significant short-term disruptions among native-born workers. Furthermore, the positive effects and benefits in the destination labor markets tend to be more diffuse whereas the costs are more concentrated and easily attributable to immigration.\n",
      "Understanding (and empathizing with) these legitimate economic concerns is critical to informed and effective policy making. The goal should be to ease the costs of short-term dislocations of native-born workers and distribute more widely the economic benefits generated by labor mobility. Proactive interventions to ease the pain and share the gain from immigration are essential to avoid draconian restrictions on immigration that will hurt everybody. Ignoring the massive economic gains of immigration would be akin to leaving billions of hundred-dollar bills on the sidewalk.\n",
      "  TABLE OF CONTENTS  \n",
      "Chapter 1: Patterns of Global Migration\n",
      "Chapter 2: The Economic Drivers of Migration Decisions\n",
      "Chapter 3: The Wage and Employment Impacts of Migration\n",
      "Chapter 4: Longer-Term Dynamics: Immigrant Economic Adjustment and Native Responses\n",
      "Chapter 5: High-Skilled Migration\n",
      "  PRAISE FOR THE REPORT:https://www.worldbank.org/en/research/publication/moving-for-prosperity\n",
      "==================================\u001b[1m Ai Message \u001b[0m==================================\n",
      "\n",
      "1. The report \"Moving for Prosperity: Global Migration and Labor Markets\" highlights that \"migrants’ incomes increase three to six times when they move from lower- to higher-income countries,\" which supports the thesis by demonstrating the significant economic benefits that immigration brings to receiving countries. This income increase not only benefits the migrants but also contributes to the overall economy of the host country. [Source: https://www.worldbank.org/en/research/publication/moving-for-prosperity]\n",
      "\n",
      "2. The report states, \"The gains for immigrants do not come at the expense of host countries,\" indicating that immigration can lead to mutual benefits for both immigrants and native-born workers. This directly supports the thesis by arguing that the perceived burdens of immigration are outweighed by the economic and cultural enrichment it provides. [Source: https://www.worldbank.org/en/research/publication/moving-for-prosperity]\n",
      "\n",
      "3. It is noted that \"almost every empirical study finds that increased labor mobility leads to large gains for the immigrants and positive overall gains for the destination country.\" This evidence reinforces the thesis by providing a strong empirical basis for the argument that immigration enriches receiving countries economically. [Source: https://www.worldbank.org/en/research/publication/moving-for-prosperity]\n",
      "\n",
      "4. The report also addresses the cultural aspect by mentioning that \"farmers in destinations from New Zealand to New Mexico thrive thanks to the hard work of immigrant workers,\" which illustrates how immigrants contribute to the cultural and economic fabric of their new communities. This supports the thesis by showing that immigration enhances cultural diversity and economic productivity. [Source: https://www.worldbank.org/en/research/publication/moving-for-prosperity]\n",
      "\n",
      "5. Finally, the report emphasizes the need for \"proactive interventions to ease the pain and share the gain from immigration,\" suggesting that while there may be challenges associated with immigration, the overall benefits can be maximized through thoughtful policy-making. This aligns with the thesis by advocating for a perspective that recognizes the positive contributions of immigration while addressing concerns. [Source: https://www.worldbank.org/en/research/publication/moving-for-prosperity]\n"
     ]
    }
   ],
   "source": [
    "for message in complete_message[\"messages\"]: \n",
    "    message.pretty_print()"
   ]
  }
 ],
 "metadata": {
  "kernelspec": {
   "display_name": "LangGraph_Project_1",
   "language": "python",
   "name": "python3"
  },
  "language_info": {
   "codemirror_mode": {
    "name": "ipython",
    "version": 3
   },
   "file_extension": ".py",
   "mimetype": "text/x-python",
   "name": "python",
   "nbconvert_exporter": "python",
   "pygments_lexer": "ipython3",
   "version": "3.11.9"
  }
 },
 "nbformat": 4,
 "nbformat_minor": 2
}
