{
 "cells": [
  {
   "cell_type": "code",
   "execution_count": 1,
   "metadata": {},
   "outputs": [
    {
     "data": {
      "text/plain": [
       "True"
      ]
     },
     "execution_count": 1,
     "metadata": {},
     "output_type": "execute_result"
    }
   ],
   "source": [
    "from dotenv import load_dotenv, find_dotenv \n",
    "\n",
    "load_dotenv(find_dotenv(), override = True)"
   ]
  },
  {
   "cell_type": "code",
   "execution_count": 2,
   "metadata": {},
   "outputs": [],
   "source": [
    "from langchain_exa import ExaSearchRetriever\n",
    "from langchain_openai import ChatOpenAI \n",
    "\n",
    "exa_search_retriever = ExaSearchRetriever(k = 1, highlights = False, type = \"keyword\") \n",
    "\n",
    "llm = ChatOpenAI(model = \"gpt-4o\", temperature = 0)"
   ]
  },
  {
   "cell_type": "code",
   "execution_count": 3,
   "metadata": {},
   "outputs": [],
   "source": [
    "from typing_extensions import TypedDict \n",
    "from typing import Annotated \n",
    "from operator import add \n",
    "\n",
    "class Custom_State(TypedDict): \n",
    "    thesis: str \n",
    "    thesis_parts: Annotated[list[str], add]\n",
    "    context: Annotated[list[str], add] \n",
    "    recent_thesis_part: str\n",
    "    iteration_counter: int\n",
    "    final_response: str"
   ]
  },
  {
   "cell_type": "markdown",
   "metadata": {},
   "source": [
    "# exa_search_node"
   ]
  },
  {
   "cell_type": "code",
   "execution_count": 4,
   "metadata": {},
   "outputs": [],
   "source": [
    "exa_search_retriever = ExaSearchRetriever(k = 1, highlights = False, type = \"autotype\")\n",
    "\n",
    "def exa_search_node(recent_thesis_part: str):\n",
    "    \"\"\"Search for context from online sources. \n",
    "    This search should use the entire recent_thesis_part \n",
    "    This tool should return context for the question that was asked and the accompanying url for the context. \n",
    "    Include the url at the end of the context on a new line.\n",
    "    \n",
    "    Args: \n",
    "        recent_thesis_part: recent_thesis_part\n",
    "    \"\"\"\n",
    "    # exa_search_retriever = ExaSearchRetriever(k = 1, highlights = False, type = \"autotype\") \n",
    "    output = exa_search_retriever.invoke(recent_thesis_part) \n",
    "    return output[0].page_content + output[0].metadata[\"url\"]"
   ]
  },
  {
   "cell_type": "code",
   "execution_count": 5,
   "metadata": {},
   "outputs": [],
   "source": [
    "def exa_search_node_new(state: Custom_State):\n",
    "    \"\"\"Search for context from online sources. \n",
    "    This search should use the entire recent_thesis_part \n",
    "    This tool should return context for the question that was asked and the accompanying url for the context. \n",
    "    Include the url at the end of the context on a new line.\n",
    "    \n",
    "    Args: \n",
    "        recent_thesis_part: recent_thesis_part\n",
    "    \"\"\"\n",
    "    exa_search_retriever_new = ExaSearchRetriever(k = 1, highlights = False, type = \"autotype\")\n",
    "    output = exa_search_retriever_new.invoke(state[\"recent_thesis_part\"]) \n",
    "    return {\"context\": [output[0].page_content + output[0].metadata[\"url\"]]}"
   ]
  },
  {
   "cell_type": "code",
   "execution_count": 6,
   "metadata": {},
   "outputs": [],
   "source": [
    "llm_with_tools = ChatOpenAI(model = \"gpt-4o-mini\", temperature = 0).bind_tools([exa_search_node])"
   ]
  },
  {
   "cell_type": "markdown",
   "metadata": {},
   "source": [
    "# Adding a Structured Output to query_parsing_node"
   ]
  },
  {
   "cell_type": "code",
   "execution_count": 7,
   "metadata": {},
   "outputs": [],
   "source": [
    "from pydantic import BaseModel, Field \n",
    "from typing import Optional\n",
    "\n",
    "class parsed_query(BaseModel): \n",
    "    \"\"\"The original thesis statement split into its parts.\"\"\" \n",
    "    thesis_part_1: str = Field(description = \"Thesis that has been split into its main idea/main argument and first sub-argument/reasoning.\") \n",
    "    thesis_part_2: str = Field(description = \"Thesis that has been split into its main idea/main argument and second sub-argument/reasoning.\")\n",
    "    thesis_part_3: Optional[str] = Field(description = \"Thesis that has been split into its main idea/main argument and third sub-argument/reasoning.\")"
   ]
  },
  {
   "cell_type": "code",
   "execution_count": 8,
   "metadata": {},
   "outputs": [],
   "source": [
    "llm_2 = ChatOpenAI(model = \"gpt-4o-mini\", temperature = 0) \n",
    "\n",
    "llm_structured = llm_2.with_structured_output(parsed_query)"
   ]
  },
  {
   "cell_type": "markdown",
   "metadata": {},
   "source": [
    "# query_parsing_node"
   ]
  },
  {
   "cell_type": "code",
   "execution_count": 9,
   "metadata": {},
   "outputs": [],
   "source": [
    "from langchain.prompts import ChatPromptTemplate\n",
    "from langchain_core.output_parsers import StrOutputParser\n",
    "from langchain_core.messages import SystemMessage, HumanMessage\n",
    "\n",
    "def query_parsing_node(state: Custom_State): \n",
    "    thesis = state[\"thesis\"] \n",
    "    prompt_template = ChatPromptTemplate.from_template(\"\"\"\n",
    "                                                       The overall goal of this LLM application is to help a user in writing their research paper based on their thesis statement that they provide. \n",
    "                                                       However, this is the first step of the process in which you must parse the original, whole thesis into seperate sentences. \n",
    "                                                       This will require you to analyze the thesis statement, locate its main idea as well as its sub-arguemnts/reasonings, and finally, combine the main idea with ONE of the sub-arguemnts/reasonings in each sentence. \n",
    "                                                       Therefore, IF the original thesis statement included a main idea and 2 sub-arguments/reasonings, the final output must include 2 seperate sentences, each including the main idea and a unique sub-argument/reasoning. \n",
    "                                                       DO NOT INCLUDE quotation marks \"\" in the final output. \n",
    "                                                       \n",
    "                                                       ---START OF EXAMPLES---\n",
    "                                                       \n",
    "                                                       For some guidance, consider the following examples: \n",
    "                                                       \n",
    "                                                       Example 1:\n",
    "                                                       \n",
    "                                                       Original thesis statement: \"Mandatory school uniforms should be implemented in educational institutions as they promote a sense of equality, reduce distractions, and foster a focused and professional learning environment.\" \n",
    "                                                       \n",
    "                                                       Output: \n",
    "                                                            \"Mandatory school uniforms should be implemented in educational institutions as they promote a sense of equality.\"\n",
    "                                                            \"Mandatory school uniforms should be implemented in educational institutions as they reduce distractions.\"\n",
    "                                                            \"Mandatory school uniforms should be implemented in educational institutions as they foster a focused and professional learning environment.\"\n",
    "                                                            \n",
    "                                                        Example 2: \n",
    "                                                        \n",
    "                                                        Original thesis statement: \"Globalization has created a world more interconnected than ever before, yet it also amplifies economic disparities and cultural homogenization.\"\n",
    "                                                        \n",
    "                                                        Output: \n",
    "                                                            \"Globalization has created a world more interconnected than ever before, yet it also amplifies economic disparities.\"\n",
    "                                                            \"Globalization has created a world more interconnected than ever before, yet it also amplifies cultural homogenization.\"  \n",
    "                                                            \n",
    "                                                        Example 3: \n",
    "                                                        Original thesis statement: \"Immigration enriches receiving countries culturally and economically, outweighing any perceived social or economic burdens.\" \n",
    "                                                        \n",
    "                                                        Output: \n",
    "                                                            \"Immigration enriches receiving countries culturally, outweighing any perceived social or economic burdens.\" \n",
    "                                                            \"Immigration enriches receiving countries economically, outweighing any perceived social or economic burdens.\"\n",
    "                                                            \n",
    "                                                        ----END OF EXAMPLES---\n",
    "                                                        \n",
    "                                                        Original thesis statement: {thesis}\n",
    "                                                       \"\"\")\n",
    "    \n",
    "    query_parsing_chain = prompt_template | llm_structured \n",
    "    parsed_thesis = query_parsing_chain.invoke({\"thesis\": thesis[0].content}) \n",
    "    return {\"thesis_parts\": [parsed_thesis.thesis_part_1, parsed_thesis.thesis_part_2, parsed_thesis.thesis_part_3], \"iteration_counter\": -1}\n",
    "    "
   ]
  },
  {
   "cell_type": "markdown",
   "metadata": {},
   "source": [
    "### Tests for query_parsing_node"
   ]
  },
  {
   "cell_type": "code",
   "execution_count": null,
   "metadata": {},
   "outputs": [],
   "source": [
    "output = query_parsing_node({\"thesis\": \"Social media has revolutionized communication and societal interactions, but it also presents significant challenges related to privacy, mental health, and misinformation.\"}) \n",
    "\n",
    "output = output.content \n",
    "\n",
    "output_2 = output.split(\" #\")\n",
    "\n",
    "print(output_2)"
   ]
  },
  {
   "cell_type": "code",
   "execution_count": null,
   "metadata": {},
   "outputs": [],
   "source": [
    "for i in output[\"thesis_parts\"]: \n",
    "    print(i)"
   ]
  },
  {
   "cell_type": "code",
   "execution_count": null,
   "metadata": {},
   "outputs": [],
   "source": [
    "output = query_parsing_node({\"thesis\": \"Globalization has created a world more interconnected than ever before, yet it also amplifies economic disparities and cultural homogenization.\"}) \n",
    "\n",
    "print(output)\n",
    "print(output[\"thesis_parts\"][0])\n",
    "print(output[\"thesis_parts\"][1])\n",
    "print(output[\"thesis_parts\"][-1])"
   ]
  },
  {
   "cell_type": "code",
   "execution_count": null,
   "metadata": {},
   "outputs": [],
   "source": [
    "output = query_parsing_node({\"thesis\": \"Urbanization drives economic growth and social development, but it also poses unique challenges in sustainability and quality of life.\"}) \n",
    "\n",
    "print(output) \n",
    "print(\"-\" * 50)\n",
    "output_list = output.split(\"\\n\")\n",
    "print(output_list)\n",
    "print(type(output_list))\n",
    "print(\"-\" * 50) \n",
    "for thesis_part in output_list: \n",
    "    print(thesis_part)\n",
    "    print(type(thesis_part))\n",
    "    print(\"-\" * 10)"
   ]
  },
  {
   "cell_type": "code",
   "execution_count": null,
   "metadata": {},
   "outputs": [],
   "source": [
    "output = query_parsing_node({\"thesis\": \"Immigration enriches receiving countries culturally and economically, outweighing any perceived social or economic burdens.\"}) \n",
    "\n",
    "print(output)"
   ]
  },
  {
   "cell_type": "markdown",
   "metadata": {},
   "source": [
    "# load_thesis_part_node "
   ]
  },
  {
   "cell_type": "code",
   "execution_count": 10,
   "metadata": {},
   "outputs": [],
   "source": [
    "def load_thesis_part_node(state: Custom_State):\n",
    "    # list_1 = state[\"thesis_parts\"][0].split(\"\\n\")\n",
    "    # parts = state[\"thesis_parts\"][-1] \n",
    "    return {\"recent_thesis_part\": state[\"thesis_parts\"][-1]}"
   ]
  },
  {
   "cell_type": "code",
   "execution_count": 11,
   "metadata": {},
   "outputs": [],
   "source": [
    "def load_thesis_part_node_new(state: Custom_State):\n",
    "    if abs(state[\"iteration_counter\"]) <= len(state[\"thesis_parts\"]):\n",
    "        return {\"recent_thesis_part\": state[\"thesis_parts\"][state[\"iteration_counter\"]]}\n",
    "    else: \n",
    "        pass"
   ]
  },
  {
   "cell_type": "markdown",
   "metadata": {},
   "source": [
    "# assistant_node"
   ]
  },
  {
   "cell_type": "code",
   "execution_count": 12,
   "metadata": {},
   "outputs": [],
   "source": [
    "from langgraph.graph import StateGraph, START, END\n",
    "\n",
    "sys_msg = SystemMessage(content = \"\"\"\n",
    "                        You are a helpful assistant tasked with pulling text gathered from the web in order to aid the user in completing their research paper based on their provided thesis statement.\n",
    "                        Use the entire provided thesis as the input for your web search. \n",
    "                        Return all text/information gathered from the web search in a raw but human readable format. \n",
    "                        At the very end, include the url from the web search that was used to gather all of this text/information and include '----------------------------------------------------' on a new line after the url as a separator between different/unique web search results. \n",
    "                        ONLY SEARCH FROM trust-worthy sources from the web search such as Google Scholar, JSTOR, ScienceDirect, and other academic databases. \n",
    "                        If a source does not seem to be trustworthy, skip the source and execute the search again, for a maximum of 3 iterations.\n",
    "                        DO NOT write the user's research paper for them. \n",
    "                        \n",
    "                        -------------------------------------------------------------\n",
    "                        \n",
    "                        USE THE THESIS PART BELOW AS THE INPUT TO 'exa_search_node'\n",
    "                        \"\"\")\n",
    "\n",
    "# prompt = ChatPromptTemplate.from_template(template = \"\"\"\n",
    "#                         You are a helpful assistant tasked with pulling text gathered from the web in order to aid the user in completing their research paper based on their provided thesis statement.\n",
    "#                         Use the entire provided thesis as the input for your web search. \n",
    "#                         Return all text/information gathered from the web search in a raw but human readable format. \n",
    "#                         At the very end, include the url from the web search that was used to gather all of this text/information and include '----------------------------------------------------' on a new line after the url as a separator between different/unique web search results. \n",
    "#                         ONLY SEARCH FROM trust-worthy sources from the web search such as Google Scholar, JSTOR, ScienceDirect, and other academic databases. \n",
    "#                         If a source does not seem to be trustworthy, skip the source and execute the search again, for a maximum of 3 iterations.\n",
    "#                         DO NOT write the user's research paper for them. \n",
    "                        \n",
    "#                         -------------------------------------------------------------\n",
    "                        \n",
    "#                         USE THE THESIS PART BELOW AS THE INPUT TO 'exa_search_node' \n",
    "                        \n",
    "#                         recent_thesis_part: {recent_thesis_part}\n",
    "#                         \"\"\")\n",
    "\n",
    "def assistant_node(state: Custom_State): \n",
    "    # chain = prompt | llm_with_tools \n",
    "    # return {\"context\": [chain.invoke({\"recent_thesis_part\": state[\"recent_thesis_part\"]})]}\n",
    "    return {\"context\": [llm_with_tools.invoke([sys_msg] + [state[\"recent_thesis_part\"]])]}"
   ]
  },
  {
   "cell_type": "markdown",
   "metadata": {},
   "source": [
    "# remove_one_thesis_part_node"
   ]
  },
  {
   "cell_type": "code",
   "execution_count": 13,
   "metadata": {},
   "outputs": [],
   "source": [
    "def remove_one_thesis_part_node(state: Custom_State): \n",
    "    return {\"thesis_parts\": state[\"thesis_parts\"][0: -1]}"
   ]
  },
  {
   "cell_type": "markdown",
   "metadata": {},
   "source": [
    "# Change iteration_counter"
   ]
  },
  {
   "cell_type": "code",
   "execution_count": 14,
   "metadata": {},
   "outputs": [],
   "source": [
    "def change_iteration_counter_node(state: Custom_State): \n",
    "    return {\"iteration_counter\": state[\"iteration_counter\"] - 1}"
   ]
  },
  {
   "cell_type": "markdown",
   "metadata": {},
   "source": [
    "# Conditional Edge for assistant_node"
   ]
  },
  {
   "cell_type": "code",
   "execution_count": 15,
   "metadata": {},
   "outputs": [],
   "source": [
    "from typing import Literal\n",
    "\n",
    "def thesis_part_conditional_edge(state: Custom_State) -> Literal[\"exa_search_node\", \"text_and_quote_extractor_node\"]: \n",
    "    if hasattr(state[\"context\"][-1], \"tool_calls\") and len(state[\"context\"][-1].tool_calls) > 0 and len(state[\"thesis_parts\"]) > 0: \n",
    "        return \"exa_search_node\" \n",
    "    else: \n",
    "        return \"text_and_quote_extractor_node\""
   ]
  },
  {
   "cell_type": "code",
   "execution_count": 16,
   "metadata": {},
   "outputs": [],
   "source": [
    "def thesis_part_conditional_edge_new(state: Custom_State) -> Literal[\"exa_search_node_new\", \"text_and_quote_extractor_node\"]: \n",
    "    if len(state[\"thesis_parts\"]) > 0 and state[\"thesis_parts\"][-1] != None and abs(state[\"iteration_counter\"]) <= len(state[\"thesis_parts\"]): \n",
    "        return \"exa_search_node_new\" \n",
    "    else: \n",
    "        return \"text_and_quote_extractor_node\""
   ]
  },
  {
   "cell_type": "markdown",
   "metadata": {},
   "source": [
    "# text_and_quote_extractor_node"
   ]
  },
  {
   "cell_type": "code",
   "execution_count": 17,
   "metadata": {},
   "outputs": [],
   "source": [
    "def text_and_quote_extractor_node(state: Custom_State): \n",
    "    context = state[\"context\"] \n",
    "    original_thesis = state[\"thesis\"] \n",
    "    system_message_template = ChatPromptTemplate.from_template(template = \"\"\"\n",
    "                                   Given the original thesis statement below and all of the provided context, return reasoning as to why the websites, articles, or academic papers found through the web searchs assist the user in writing their research paper. \n",
    "                                   You must return SPECIFIC QUOTATIONS from the websites, articles, or academic papers themselves that the user can utilize within their own research paper. \n",
    "                                   Display all reasoning in a numbered list format with the urls for each piece of reasoning at the end of the line. \n",
    "                                   DO NOT write the user's research paper for them.\n",
    "                                   VERY IMPORTANT, USE ONLY THE PROVIDED ORIGINAL THESIS AND CONTEXT, DO NOT RETRIEVE INFORMATION FROM YOUR OWN INTERNAL DATABASE\n",
    "                                   \n",
    "                                   -------------------------------------------------\n",
    "                                   \n",
    "                                   Original Thesis Statement: {original_thesis} \n",
    "                                   \n",
    "                                   Given Context: {context}\n",
    "                                   \n",
    "                                   \"\"\")\n",
    "    text_and_quote_extractor_chain = system_message_template | llm | StrOutputParser()\n",
    "    return {\"final_response\": text_and_quote_extractor_chain.invoke({\"original_thesis\": original_thesis[0].content, \"context\": context})}"
   ]
  },
  {
   "cell_type": "code",
   "execution_count": 18,
   "metadata": {},
   "outputs": [
    {
     "data": {
      "image/jpeg": "[encoded data removed]",
      "text/plain": [
       "<IPython.core.display.Image object>"
      ]
     },
     "metadata": {},
     "output_type": "display_data"
    }
   ],
   "source": [
    "from IPython.display import Image, display\n",
    "from langgraph.prebuilt import ToolNode, tools_condition # tools_condition is not used here \n",
    "from langgraph.checkpoint.memory import MemorySaver\n",
    "\n",
    "builder = StateGraph(Custom_State) \n",
    "\n",
    "builder.add_node(\"query_parsing_node\", query_parsing_node) \n",
    "builder.add_node(\"assistant_node\", assistant_node)\n",
    "builder.add_node(\"exa_search_node_new\", exa_search_node_new) \n",
    "# builder.add_node(\"remove_one_thesis_part_node\", remove_one_thesis_part_node)\n",
    "builder.add_node(\"change_iteration_counter_node\", change_iteration_counter_node)\n",
    "builder.add_node(\"text_and_quote_extractor_node\", text_and_quote_extractor_node)\n",
    "builder.add_node(\"load_thesis_part_node_new\", load_thesis_part_node_new)\n",
    "\n",
    "builder.add_edge(START, \"query_parsing_node\") \n",
    "builder.add_edge(\"query_parsing_node\", \"load_thesis_part_node_new\") \n",
    "builder.add_edge(\"load_thesis_part_node_new\", \"assistant_node\")\n",
    "builder.add_conditional_edges(\"assistant_node\", thesis_part_conditional_edge_new)\n",
    "builder.add_edge(\"exa_search_node_new\", \"change_iteration_counter_node\")  \n",
    "builder.add_edge(\"change_iteration_counter_node\", \"load_thesis_part_node_new\")\n",
    "builder.add_edge(\"text_and_quote_extractor_node\", END)\n",
    "\n",
    "graph = builder.compile(checkpointer = MemorySaver()) # interrupt_before = [\"load_thesis_part_node\"]\n",
    "\n",
    "display(Image(graph.get_graph(xray = True).draw_mermaid_png()))"
   ]
  },
  {
   "cell_type": "code",
   "execution_count": 19,
   "metadata": {},
   "outputs": [
    {
     "name": "stdout",
     "output_type": "stream",
     "text": [
      "{'thesis': [HumanMessage(content='Mandatory school uniforms should be implemented in educational institutions as they promote a sense of equality, reduce distractions, and foster a focused and professional learning environment.', additional_kwargs={}, response_metadata={})], 'thesis_parts': ['Mandatory school uniforms should be implemented in educational institutions as they promote a sense of equality.', 'Mandatory school uniforms should be implemented in educational institutions as they reduce distractions.', 'Mandatory school uniforms should be implemented in educational institutions as they foster a focused and professional learning environment.'], 'context': [AIMessage(content='', additional_kwargs={'tool_calls': [{'id': 'call_chtlwqomwuZyEVVoh8vr23FT', 'function': {'arguments': '{\"recent_thesis_part\": \"Mandatory school uniforms should be implemented in educational institutions as they foster a focused and professional learning environment.\"}', 'name': 'exa_search_node'}, 'type': 'function'}, {'id': 'call_SNYE2vKAt7coPplLSfhYsWOQ', 'function': {'arguments': '{\"recent_thesis_part\": \"Mandatory school uniforms should be implemented in educational institutions as they foster a focused and professional learning environment.\"}', 'name': 'exa_search_node'}, 'type': 'function'}, {'id': 'call_xS6ahuRItZ3j0wN4Gz40WBCv', 'function': {'arguments': '{\"recent_thesis_part\": \"Mandatory school uniforms should be implemented in educational institutions as they foster a focused and professional learning environment.\"}', 'name': 'exa_search_node'}, 'type': 'function'}], 'refusal': None}, response_metadata={'token_usage': {'completion_tokens': 127, 'prompt_tokens': 327, 'total_tokens': 454, 'completion_tokens_details': {'audio_tokens': None, 'reasoning_tokens': 0}, 'prompt_tokens_details': {'audio_tokens': None, 'cached_tokens': 0}}, 'model_name': 'gpt-4o-mini-2024-07-18', 'system_fingerprint': 'fp_e2bde53e6e', 'finish_reason': 'tool_calls', 'logprobs': None}, id='run-50124469-c868-4479-a666-d066880dca37-0', tool_calls=[{'name': 'exa_search_node', 'args': {'recent_thesis_part': 'Mandatory school uniforms should be implemented in educational institutions as they foster a focused and professional learning environment.'}, 'id': 'call_chtlwqomwuZyEVVoh8vr23FT', 'type': 'tool_call'}, {'name': 'exa_search_node', 'args': {'recent_thesis_part': 'Mandatory school uniforms should be implemented in educational institutions as they foster a focused and professional learning environment.'}, 'id': 'call_SNYE2vKAt7coPplLSfhYsWOQ', 'type': 'tool_call'}, {'name': 'exa_search_node', 'args': {'recent_thesis_part': 'Mandatory school uniforms should be implemented in educational institutions as they foster a focused and professional learning environment.'}, 'id': 'call_xS6ahuRItZ3j0wN4Gz40WBCv', 'type': 'tool_call'}], usage_metadata={'input_tokens': 327, 'output_tokens': 127, 'total_tokens': 454, 'input_token_details': {'cache_read': 0}, 'output_token_details': {'reasoning': 0}}), 'track order\\n   user login\\nOne stop solution for school related shopping\\n\"ShopforSchool.in is a dynamic online platform, making one-stop-shopping a satisfying experience by delivering a wide range of quality products at your doorstep. We house unique products, ranging from books to stationery &amp; apparel to footwear.\\nTrouble Logging in?\\n+91 7666 477 477 | wecare@shopforschool.in\\n    help manual\\n \\nCopyright © 2019 www.shopforschool.in\\n||||I|||| * track order\\n* user login\\nOne stop solution\\nfor school related shopping\\nPlease select your school to start shopping PODAR INTERNATIONAL SCHOOL Hingoli-2 Lilavatibai Podar Sr. Secondary School - Santacruz (ICSE) Maruti Suzuki Podar Learn School Podar Blossom School (SSC) - Chakan Podar International School (CBSE) - Amravati 2 (Badnera Road) Podar International School (CBSE) - Arsikere Podar International School (CBSE) - Ballarpur Podar International School (CBSE) - Bhiwandi Podar International School (CBSE) - Deolali Podar International School (CBSE) - Devengere Podar International School (CBSE) - Gangapur Podar International School (CBSE) - Goa Podar International School (CBSE) - Himmatnagar Podar International School (CBSE) - Howrah Podar International School (CBSE) - Igatpuri Podar International School (CBSE) - Jabalpur Podar International School (CBSE) - Jalandhar Podar International School (CBSE) - Kankavli Podar International School (CBSE) - Ludhiana Podar International School (CBSE) - Mira Road, Mumbai Podar International School (CBSE) - Muzzaffarpur Podar International School (CBSE) - Mysore 2 (Hebbal Industrial Area) Podar International School (CBSE) - Ojhar Podar International School (CBSE) - Parathwada Podar International School (CBSE) - Pathardi Podar International School (CBSE) - Sara City Podar International School (CBSE) - SHIMOGA 2 (Gopalagowda Extension) Podar International School (CBSE) - Vasai Podar International School - Ahmedabad (CBSE) Podar International School - Ahmednagar (CBSE) Podar International School - Akola Podar International School - Ambegaon Podar International School - Ambejogai(CBSE) Podar International School - Ambernath (CBSE) Podar International School - Amravati 1 (Kathora Road) Podar International School - Amreli (CBSE) Podar International School - Anand Podar International School - Aurangabad (CBSE) Podar International School - Aurangabad (ICSE) Podar International School - Aurangabad (Sundarwadi) Podar International School - Baramati Podar International School - Beed Podar International School - Belagavi (CBSE) Podar International School - Bengaluru (ICSE) Podar International School - Bengaluru (Kalkere) (CBSE) Podar International School - Bengaluru (Magadi Road) (CBSE) Podar International School - Bhandara Podar International School - Bhavnagar Podar International School - Bhopal (CBSE) Podar International School - Bhusawal Podar International School - Buldhana (CBSE) Podar International School - Chakan Podar International School - Chalisgaon Podar International School - Chandrapur (CBSE) Podar International School - Chhindwara (CBSE) Podar International School - Chinchwad (CBSE) Podar International School - Daund Podar International School - Dhule Podar International School - Gandhidham (CBSE) Podar International School - Gandhinagar (CBSE) Podar International School - Gaya (CBSE) Podar International School - Gondia Podar International School - Gwalior Podar International School - Hassan (ICSE) PODAR INTERNATIONAL SCHOOL - HAYATHNAGAR Podar International School - Hingoli (CBSE) Podar International School - Ichalkaranji (Proposed CBSE) Podar International School - Indore Podar International School - Jalgaon Podar International School - Jalna (Proposed CBSE) Podar International School - Jamnagar Podar International School - Junagadh Podar International School - Kalyan (CBSE) Podar International School - Kalyan (CIE) Podar International School - Kalyan (ICSE) Podar International School - Kanakpura Podar International School - Karad Podar International School - Katni Podar International School - Khandwa Podar International School - Kolhapur Podar International School - Latur Podar International School - Mandya Podar International School - Mangalore (CBSE) Podar International School - Mehsana (CBSE) Podar International School - Mumbai (IB) Podar International School - Mumbai (SSC) Podar International School - Mysore 1 (Vijayanagar) Podar International School - Nadiad (CBSE) Podar International School - Nagpur (Katol) (CBSE) Podar International School - Nagpur(Besa) Podar International School - Nagpur(Koradi) (CBSE) Podar International School - Nanded Podar International School - Nandurbar Podar International School - Nashik (ICSE) Podar International School - Navsari (CBSE) Podar International School - Nerul (ICSE) Podar International School - Nerul(CBSE) Podar International School - Nerul(CIE) Podar International School - Osmanabad (CBSE) Podar International School - Parbhani Podar International School - Patiala Podar International School - Pimpri (ICSE) Podar International School - Powai (CIE) Podar International School - Powai(CBSE) Podar International School - Pune (Wagholi) Podar International School - Raipur Podar International School - Rajkot Podar International School - Ratlam (Proposed CBSE) Podar International School - Ratnagiri (CBSE) Podar International School - Samastipur (CBSE) Podar International School - Sangamner Podar International School - Sangli Podar International School - Satara Podar International School - SHIMOGA 1 (Vidyanagar) Podar International School - Shirur Podar International School - Solapur Podar International School - Surat Podar International School - Surat 2 Podar International School - Talegaon (Proposed CBSE) Podar International School - Thane (CBSE) Podar International School - Thane (CIE) Podar International School - Tirupati (Proposed CBSE) Podar International School - Tumkur (CBSE) Podar International School - Udupi (CBSE) Podar International School - Ujjain (CBSE) Podar International School - Vadodara Podar International School - Vapi Podar International School - Vastral (Ahmedabad) Podar International School - Veraval Podar International School - Wakad Podar International School - wakad (CIE) Podar International School - Waluj Podar International School - Wardha Podar International School - Washim (CBSE) Podar International School - Yavatmal Podar Jumbo Kids - Andheri Podar Jumbo Kids - Aurangabad Podar Jumbo Kids - Bandra(East) Podar Jumbo Kids - Belapur Podar Jumbo Kids - Chinchwad PODAR JUMBO KIDS - JUNAGADH Podar Jumbo Kids - Kharghar Podar Jumbo Kids - Nigdi Podar Jumbo Kids - Pimplesaudagar Podar Jumbo Kids - Pimpri Podar Jumbo Kids - Raipur Podar Jumbo Kids - Talegaon Podar Jumbo Kids - Ujjain Podar Jumbo Kids - Ulhasnagar Podar Jumbo Kids - Vadgaon2 Podar Jumbo Kids - Vile Parle Podar Jumbo Kids Bavdhan Podar Jumbo Kids Mulund East Podar Jumbo Kids Plus - Khar Podar Jumbo Kids Plus International - Santacruz(west) Podar Jumbo Kids Sarvottam Nagar (Chhindwara) Podar-ORT International School - Worli (IB) R N Podar School - Santacruz\\nstart shopping\\nsearch by location\\n\"ShopforSchool.in is a dynamic online platform, making one-stop-shopping a satisfying experience by delivering a wide range of quality products at your doorstep. We house unique products, ranging from books to stationery & apparel to footwear.\\nTrouble Logging in?\\n+91 7666 477 477 | wecare@shopforschool.in\\nhelp manual\\nCopyright © 2019\\nwww.shopforschool.in\\nTrack order\\n×\\ntrack order\\nuser login\\n×\\n* Existing Users\\n* New User\\nsign up\\nforgot password\\n×\\nsend password\\nYour password would be emailed to your registered email address\\nSearch by location\\n×\\nSelect State\\nSelect City\\nSelect School\\nstart shoppinghttps://www.shopforschool.in/', AIMessage(content='', additional_kwargs={'tool_calls': [{'id': 'call_nyJgtXhHlUCV07AXxqcG3UL3', 'function': {'arguments': '{\"recent_thesis_part\":\"Mandatory school uniforms should be implemented in educational institutions as they reduce distractions.\"}', 'name': 'exa_search_node'}, 'type': 'function'}], 'refusal': None}, response_metadata={'token_usage': {'completion_tokens': 32, 'prompt_tokens': 322, 'total_tokens': 354, 'completion_tokens_details': {'audio_tokens': None, 'reasoning_tokens': 0}, 'prompt_tokens_details': {'audio_tokens': None, 'cached_tokens': 0}}, 'model_name': 'gpt-4o-mini-2024-07-18', 'system_fingerprint': 'fp_e2bde53e6e', 'finish_reason': 'tool_calls', 'logprobs': None}, id='run-d1aabb89-51cf-4a27-b9fb-8d4c8e1f8cc3-0', tool_calls=[{'name': 'exa_search_node', 'args': {'recent_thesis_part': 'Mandatory school uniforms should be implemented in educational institutions as they reduce distractions.'}, 'id': 'call_nyJgtXhHlUCV07AXxqcG3UL3', 'type': 'tool_call'}], usage_metadata={'input_tokens': 322, 'output_tokens': 32, 'total_tokens': 354, 'input_token_details': {'cache_read': 0}, 'output_token_details': {'reasoning': 0}}), 'ERIC Number: ED458695  Record Type: Non-Journal  Publication Date: 1999-Dec  Pages: 13  Abstractor: N/A  ISBN: N/A  ISSN: N/A  EISSN: N/A  The Influence of a Mandatory School Uniform Policy.  This essay examines the influence of a mandatory school-uniform dress code on academic achievement and discipline infractions. In addition, student gender and type of school district were compared to show the influence of this policy. Only schools that implemented a mandatory school-uniform policy in 1996 and had data for discipline infractions and academic achievement for the 1995-96 and 1996-97 school years were eligible for inclusion in the study. Subjects consisted of students in a southern Florida school district located in a predominately rural area. The final sample included 6 middle schools and 80 elementary schools from 2 school districts. Results show that elementary-school students in both rural and urban school districts demonstrated improvement in academic achievement for the first year following the implementation of the school-uniform policy. The discipline infractions of out-of-school suspensions and juvenile referrals had a statistically significant improvement. Middle-school students did not have a significant decrease for discipline infractions for the school year 1996-97. The numbers of students not promoted to the next grade showed a significant effect by district type but not by gender. Further research is needed on the importance of dress to influence educators as they help students achieve a healthier self-esteem. (Contains 15 references.) (RJM)    Publication Type: Reports - Research; Speeches/Meeting Papers  Education Level: N/A  Audience: N/A  Language: English  Sponsor: N/A  Authoring Institution: N/A  Identifiers - Location: Florida  Grant or Contract Numbers: N/Ahttps://eric.ed.gov/?id=ED458695', AIMessage(content='', additional_kwargs={'tool_calls': [{'id': 'call_kQC0p6pZK9Cs1rmYeB8vmy65', 'function': {'arguments': '{\"recent_thesis_part\":\"Mandatory school uniforms should be implemented in educational institutions as they promote a sense of equality.\"}', 'name': 'exa_search_node'}, 'type': 'function'}], 'refusal': None}, response_metadata={'token_usage': {'completion_tokens': 35, 'prompt_tokens': 325, 'total_tokens': 360, 'completion_tokens_details': {'audio_tokens': None, 'reasoning_tokens': 0}, 'prompt_tokens_details': {'audio_tokens': None, 'cached_tokens': 0}}, 'model_name': 'gpt-4o-mini-2024-07-18', 'system_fingerprint': 'fp_e2bde53e6e', 'finish_reason': 'tool_calls', 'logprobs': None}, id='run-e4c20a5b-8fd8-415e-b854-881259b85368-0', tool_calls=[{'name': 'exa_search_node', 'args': {'recent_thesis_part': 'Mandatory school uniforms should be implemented in educational institutions as they promote a sense of equality.'}, 'id': 'call_kQC0p6pZK9Cs1rmYeB8vmy65', 'type': 'tool_call'}], usage_metadata={'input_tokens': 325, 'output_tokens': 35, 'total_tokens': 360, 'input_token_details': {'cache_read': 0}, 'output_token_details': {'reasoning': 0}}), \"© 2023 Leddy Uniforms Ireland | Workwear &amp; Uniforms, Safety Workwear Delivery Ireland ALL RIGHT RESERVED.    Facebook   Twitter   Google Plus   RSS Feed    ||||I|||| * Dublin\\n* Wexford\\n* Cavan\\n*\\n* 0\\n* 0\\n*\\n* Home\\n* Workwear\\n+ Healthcare\\n+ Chef Wear\\n+ Safety – Workwear\\n+ Scrubs\\n* Schoolwear\\n+ Primary School Wear\\n+ Secondary School Wear\\n+ Generic Schoolwear\\n+ Irish Dancing\\n* Dancewear\\n+ Dancewear\\n* Our Stores\\n* Delivery\\n+ Returns Policy\\n* Contact\\nHome > Primary School Wear\\nPrimary School Wear\\n* Aughadreena NS\\n* Bailieborough NS\\n* Ballycanew NS\\n* Ballyconnell Central\\n* Ballyconnell SNB\\n* Ballygarret NS\\n* Ballynarry NS\\n* Bunscoil Loreto Gorey\\n* Butlersbridge NS\\n* Castletara NS\\n* Christ the King NS\\n* Convent of mercy Belturbet\\n* Craanford NS\\n* Crosskeys St Marys\\n* Crubany NS\\n* Currin NS\\n* Drumcrave NS\\n* Drumkilly NS\\n* Farnham NS\\n* Gaelscoil An Chuilinn\\n* Gorey central NS\\n* Greaghrahan NS\\n* Kildallan NS\\n* Killeshandra NS (COI)\\n* Killinkere NS\\n* Killyconnan NS\\n* Killygarry NS\\n* Ladyswell Mulhuddart\\n* Laragh NS Stradone\\n* Mary Help Of Christians\\n* Mary Mother of Hope NS\\n* Monaseed NS\\n* Mount Sackville Primary\\n* Mullahoran Central NS\\n* North Dublin Muslim NS\\n* River Chapel NS\\n* Sacred Heart of Jesus\\n* Scoil Bhride Killeshandra\\n* Scoil Bhríde Buachaillí\\n* Scoil Bhríde Cailíní\\n* Scoil Choilm CNS\\n* Scoil Mhuire Blakestown Jnr\\n* Scoil Mhuire Blakestown Snr\\n* Scoil Oilibheir Coolmine\\n* Scoil Sinead Pelletstown\\n* Scoil Thomais Castleknock\\n* Shaheeda Zainab\\n* St. Bosco Juniors\\n* St. Bosco Seniors\\n* St. Catherines Snr\\n* St. Clares NS Cavan\\n* St. Felims NS\\n* St. Francis Xaviers\\n* St. Joseph’s NS Gorey\\n* St. Joseph’s NS kilmuckridge\\n* St. Mary's boys Belturbet\\n* St. Marys NS Virginia\\n* St. Mochtas Porterstown\\n* St. Patrick's Corduff Jnr\\n* St. Patrick's Corduff Snr\\n* St. Patrick's Diswellstown\\n* Thulach na nOg Dunboyne\\n© 2023 Leddy Uniforms Ireland | Workwear & Uniforms, Safety Workwear Delivery Ireland\\nALL RIGHT RESERVED.\\n* Facebook\\n* Twitter\\n* Google Plus\\n* RSS Feed\\n* Home\\n* My account\\n* Cart\\n* Contact\\n* Compare\\n* Wishlist\\n* Returns policy\\n* Delivery\\nSubscribe our Newsletter\\nEmail\\n3, St Brigid's Shopping Centre, Main St, Blanchardstown, Dublin 15, Ireland - D15XH92\\n+353 1 823 5466 sales@leddyuniforms.ie\\nCreated by NextWebDesignhttps://www.leddyuniforms.com/schoolwear/primary-school-wear/\", AIMessage(content='', additional_kwargs={'tool_calls': [{'id': 'call_khE7pbKHSex5Kq6nc2pPK4tF', 'function': {'arguments': '{\"recent_thesis_part\":\"Mandatory school uniforms should be implemented in educational institutions as they promote a sense of equality.\"}', 'name': 'exa_search_node'}, 'type': 'function'}], 'refusal': None}, response_metadata={'token_usage': {'completion_tokens': 35, 'prompt_tokens': 325, 'total_tokens': 360, 'completion_tokens_details': {'audio_tokens': None, 'reasoning_tokens': 0}, 'prompt_tokens_details': {'audio_tokens': None, 'cached_tokens': 0}}, 'model_name': 'gpt-4o-mini-2024-07-18', 'system_fingerprint': 'fp_e2bde53e6e', 'finish_reason': 'tool_calls', 'logprobs': None}, id='run-2a03f769-418c-46b3-abba-14ab0173921d-0', tool_calls=[{'name': 'exa_search_node', 'args': {'recent_thesis_part': 'Mandatory school uniforms should be implemented in educational institutions as they promote a sense of equality.'}, 'id': 'call_khE7pbKHSex5Kq6nc2pPK4tF', 'type': 'tool_call'}], usage_metadata={'input_tokens': 325, 'output_tokens': 35, 'total_tokens': 360, 'input_token_details': {'cache_read': 0}, 'output_token_details': {'reasoning': 0}})], 'recent_thesis_part': 'Mandatory school uniforms should be implemented in educational institutions as they promote a sense of equality.', 'iteration_counter': -4, 'final_response': '1. The study titled \"The Influence of a Mandatory School Uniform Policy\" provides evidence that mandatory school uniforms can lead to improvements in academic achievement and discipline infractions. Specifically, it states, \"Results show that elementary-school students in both rural and urban school districts demonstrated improvement in academic achievement for the first year following the implementation of the school-uniform policy.\" This supports the thesis by showing that uniforms can foster a focused and professional learning environment. [Source: https://eric.ed.gov/?id=ED458695]\\n\\n2. The same study also highlights a reduction in discipline infractions, noting that \"The discipline infractions of out-of-school suspensions and juvenile referrals had a statistically significant improvement.\" This aligns with the thesis statement\\'s claim that school uniforms reduce distractions, thereby contributing to a more focused learning environment. [Source: https://eric.ed.gov/?id=ED458695]\\n\\n3. The website Leddy Uniforms Ireland discusses the availability and variety of school uniforms, which can be used to argue that uniforms promote a sense of equality by providing a standard dress code for all students. The site offers a range of schoolwear options, indicating that uniforms are accessible and can be tailored to different school needs, thus supporting the thesis that uniforms promote equality. [Source: https://www.leddyuniforms.com/schoolwear/primary-school-wear/]\\n\\n4. The platform ShopforSchool.in emphasizes the convenience and accessibility of purchasing school uniforms, which can be used to argue that uniforms help reduce socioeconomic disparities among students. By providing a \"one-stop solution for school-related shopping,\" the platform ensures that all students have access to the same quality of uniforms, promoting equality. [Source: https://www.shopforschool.in/]'}\n",
      "--------------------------------------------------\n",
      "1. The study titled \"The Influence of a Mandatory School Uniform Policy\" provides evidence that mandatory school uniforms can lead to improvements in academic achievement and discipline infractions. Specifically, it states, \"Results show that elementary-school students in both rural and urban school districts demonstrated improvement in academic achievement for the first year following the implementation of the school-uniform policy.\" This supports the thesis by showing that uniforms can foster a focused and professional learning environment. [Source: https://eric.ed.gov/?id=ED458695]\n",
      "\n",
      "2. The same study also highlights a reduction in discipline infractions, noting that \"The discipline infractions of out-of-school suspensions and juvenile referrals had a statistically significant improvement.\" This aligns with the thesis statement's claim that school uniforms reduce distractions, thereby contributing to a more focused learning environment. [Source: https://eric.ed.gov/?id=ED458695]\n",
      "\n",
      "3. The website Leddy Uniforms Ireland discusses the availability and variety of school uniforms, which can be used to argue that uniforms promote a sense of equality by providing a standard dress code for all students. The site offers a range of schoolwear options, indicating that uniforms are accessible and can be tailored to different school needs, thus supporting the thesis that uniforms promote equality. [Source: https://www.leddyuniforms.com/schoolwear/primary-school-wear/]\n",
      "\n",
      "4. The platform ShopforSchool.in emphasizes the convenience and accessibility of purchasing school uniforms, which can be used to argue that uniforms help reduce socioeconomic disparities among students. By providing a \"one-stop solution for school-related shopping,\" the platform ensures that all students have access to the same quality of uniforms, promoting equality. [Source: https://www.shopforschool.in/]\n"
     ]
    }
   ],
   "source": [
    "config = {\"configurable\": {\"thread_id\": \"thesis_agent_example_2\"}}\n",
    "\n",
    "thesis_statement = [HumanMessage(content = \"Mandatory school uniforms should be implemented in educational institutions as they promote a sense of equality, reduce distractions, and foster a focused and professional learning environment.\")]\n",
    "complete_message = graph.invoke({\"thesis\": thesis_statement}, config = config) \n",
    "\n",
    "print(complete_message) \n",
    "print(\"-\" * 50) \n",
    "print(complete_message[\"final_response\"])"
   ]
  },
  {
   "cell_type": "code",
   "execution_count": null,
   "metadata": {},
   "outputs": [],
   "source": [
    "from pprint import pprint\n",
    "\n",
    "state = graph.get_state(config) \n",
    "pprint(state)"
   ]
  },
  {
   "cell_type": "code",
   "execution_count": null,
   "metadata": {},
   "outputs": [],
   "source": [
    "config = {\"configurable\": {\"thread_id\": \"thesis_agent_example_3\"}}\n",
    "\n",
    "thesis_statement = [HumanMessage(content = \"Social media has revolutionized communication and societal interactions, but it also presents significant challenges related to privacy, mental health, and misinformation.\")]\n",
    "complete_message = graph.invoke({\"thesis\": thesis_statement}, config = config) \n",
    "\n",
    "print(complete_message) \n",
    "print(\"-\" * 50) \n",
    "print(complete_message[\"final_response\"])"
   ]
  }
 ],
 "metadata": {
  "kernelspec": {
   "display_name": "LangGraph_Project_1",
   "language": "python",
   "name": "python3"
  },
  "language_info": {
   "codemirror_mode": {
    "name": "ipython",
    "version": 3
   },
   "file_extension": ".py",
   "mimetype": "text/x-python",
   "name": "python",
   "nbconvert_exporter": "python",
   "pygments_lexer": "ipython3",
   "version": "3.11.9"
  }
 },
 "nbformat": 4,
 "nbformat_minor": 2
}
