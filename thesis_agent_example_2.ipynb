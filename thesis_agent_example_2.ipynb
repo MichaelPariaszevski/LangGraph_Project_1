{
 "cells": [
  {
   "cell_type": "code",
   "execution_count": 30,
   "metadata": {},
   "outputs": [
    {
     "data": {
      "text/plain": [
       "True"
      ]
     },
     "execution_count": 30,
     "metadata": {},
     "output_type": "execute_result"
    }
   ],
   "source": [
    "from dotenv import load_dotenv, find_dotenv \n",
    "\n",
    "load_dotenv(find_dotenv(), override = True)"
   ]
  },
  {
   "cell_type": "code",
   "execution_count": 31,
   "metadata": {},
   "outputs": [],
   "source": [
    "from langchain_exa import ExaSearchRetriever\n",
    "from langchain_openai import ChatOpenAI \n",
    "\n",
    "exa_search_retriever = ExaSearchRetriever(k = 1, highlights = False, type = \"keyword\") \n",
    "\n",
    "llm = ChatOpenAI(model = \"gpt-4o-mini\", temperature = 0)"
   ]
  },
  {
   "cell_type": "code",
   "execution_count": 32,
   "metadata": {},
   "outputs": [],
   "source": [
    "from typing_extensions import TypedDict \n",
    "from typing import Annotated \n",
    "from operator import add \n",
    "\n",
    "class Custom_State(TypedDict): \n",
    "    thesis: str \n",
    "    thesis_parts: Annotated[list[str], add]\n",
    "    context: Annotated[list[str], add] \n",
    "    recent_thesis_part: str\n",
    "    iteration_counter: int\n",
    "    final_response: str"
   ]
  },
  {
   "cell_type": "markdown",
   "metadata": {},
   "source": [
    "# exa_search_node"
   ]
  },
  {
   "cell_type": "code",
   "execution_count": 33,
   "metadata": {},
   "outputs": [],
   "source": [
    "exa_search_retriever = ExaSearchRetriever(k = 1, highlights = False, type = \"autotype\")\n",
    "\n",
    "def exa_search_node(recent_thesis_part: str):\n",
    "    \"\"\"Search for context from online sources. \n",
    "    This search should use the entire recent_thesis_part \n",
    "    This tool should return context for the question that was asked and the accompanying url for the context. \n",
    "    Include the url at the end of the context on a new line.\n",
    "    \n",
    "    Args: \n",
    "        recent_thesis_part: recent_thesis_part\n",
    "    \"\"\"\n",
    "    # exa_search_retriever = ExaSearchRetriever(k = 1, highlights = False, type = \"autotype\") \n",
    "    output = exa_search_retriever.invoke(recent_thesis_part) \n",
    "    return output[0].page_content + output[0].metadata[\"url\"]"
   ]
  },
  {
   "cell_type": "code",
   "execution_count": 63,
   "metadata": {},
   "outputs": [],
   "source": [
    "def exa_search_node_new(state: Custom_State):\n",
    "    \"\"\"Search for context from online sources. \n",
    "    This search should use the entire recent_thesis_part \n",
    "    This tool should return context for the question that was asked and the accompanying url for the context. \n",
    "    Include the url at the end of the context on a new line.\n",
    "    \n",
    "    Args: \n",
    "        recent_thesis_part: recent_thesis_part\n",
    "    \"\"\"\n",
    "    exa_search_retriever_new = ExaSearchRetriever(k = 1, highlights = False, type = \"autotype\")\n",
    "    output = exa_search_retriever_new.invoke(state[\"recent_thesis_part\"]) \n",
    "    return {\"context\": [f\"Information from source {abs(state['iteration_counter'])}:\\n\\n\" + output[0].page_content + \"\\n\\n\" + \"Source URL: \\n\\n\" + output[0].metadata[\"url\"] + \"\\n\\n\" + (\"-\" * 100) + \"\\n\\n\"]}"
   ]
  },
  {
   "cell_type": "code",
   "execution_count": 35,
   "metadata": {},
   "outputs": [],
   "source": [
    "llm_with_tools = ChatOpenAI(model = \"gpt-4o-mini\", temperature = 0).bind_tools([exa_search_node])"
   ]
  },
  {
   "cell_type": "markdown",
   "metadata": {},
   "source": [
    "# Adding a Structured Output to query_parsing_node"
   ]
  },
  {
   "cell_type": "code",
   "execution_count": 36,
   "metadata": {},
   "outputs": [],
   "source": [
    "from pydantic import BaseModel, Field \n",
    "from typing import Optional\n",
    "\n",
    "class parsed_query(BaseModel): \n",
    "    \"\"\"The original thesis statement split into its parts.\"\"\" \n",
    "    thesis_part_1: str = Field(description = \"Thesis that has been split into its main idea/main argument and first sub-argument/reasoning.\") \n",
    "    thesis_part_2: str = Field(description = \"Thesis that has been split into its main idea/main argument and second sub-argument/reasoning.\")\n",
    "    thesis_part_3: Optional[str] = Field(description = \"Thesis that has been split into its main idea/main argument and third sub-argument/reasoning.\")"
   ]
  },
  {
   "cell_type": "code",
   "execution_count": 37,
   "metadata": {},
   "outputs": [],
   "source": [
    "llm_2 = ChatOpenAI(model = \"gpt-4o\", temperature = 0) \n",
    "\n",
    "llm_structured = llm_2.with_structured_output(parsed_query)"
   ]
  },
  {
   "cell_type": "markdown",
   "metadata": {},
   "source": [
    "# query_parsing_node"
   ]
  },
  {
   "cell_type": "code",
   "execution_count": 59,
   "metadata": {},
   "outputs": [],
   "source": [
    "from langchain.prompts import ChatPromptTemplate\n",
    "from langchain_core.output_parsers import StrOutputParser\n",
    "from langchain_core.messages import SystemMessage, HumanMessage\n",
    "\n",
    "def query_parsing_node(state: Custom_State): \n",
    "    thesis = state[\"thesis\"] \n",
    "    prompt_template = ChatPromptTemplate.from_template(\"\"\"\n",
    "        The overall goal of this LLM application is to help a user in writing their research paper based on their thesis statement that they provide. \n",
    "        However, this is the first step of the process in which you must parse the original, whole thesis into seperate sentences. \n",
    "        This will require you to analyze the thesis statement, locate its main idea as well as its sub-arguemnts/reasonings, and finally, combine the main idea with ONE of the sub-arguemnts/reasonings in each sentence. \n",
    "        Therefore, IF the original thesis statement included a main idea and 2 sub-arguments/reasonings, the final output must include 2 seperate sentences, each including the main idea and a unique sub-argument/reasoning. \n",
    "        DO NOT INCLUDE quotation marks \"\" in the final output. \n",
    "                                                       \n",
    "        ---START OF EXAMPLES---\n",
    "                                                       \n",
    "        For some guidance, consider the following examples: \n",
    "                                                       \n",
    "        Example 1:\n",
    "                                                       \n",
    "        Original thesis statement: \"Mandatory school uniforms should be implemented in educational institutions as they promote a sense of equality, reduce distractions, and foster a focused and professional learning environment.\" \n",
    "                                                       \n",
    "        Output: \n",
    "            \"Mandatory school uniforms should be implemented in educational institutions as they promote a sense of equality.\"\n",
    "            \"Mandatory school uniforms should be implemented in educational institutions as they reduce distractions.\"\n",
    "            \"Mandatory school uniforms should be implemented in educational institutions as they foster a focused and professional learning environment.\"\n",
    "                                                            \n",
    "        Example 2: \n",
    "                                                        \n",
    "        Original thesis statement: \"Globalization has created a world more interconnected than ever before, yet it also amplifies economic disparities and cultural homogenization.\"\n",
    "                                                        \n",
    "        Output: \n",
    "            \"Globalization has created a world more interconnected than ever before, yet it also amplifies economic disparities.\"\n",
    "            \"Globalization has created a world more interconnected than ever before, yet it also amplifies cultural homogenization.\"  \n",
    "                                                            \n",
    "        Example 3: \n",
    "        \n",
    "        Original thesis statement: \"Immigration enriches receiving countries culturally and economically, outweighing any perceived social or economic burdens.\" \n",
    "                                                        \n",
    "        Output: \n",
    "            \"Immigration enriches receiving countries culturally, outweighing any perceived social or economic burdens.\" \n",
    "            \"Immigration enriches receiving countries economically, outweighing any perceived social or economic burdens.\"\n",
    "                                                            \n",
    "        -----END OF EXAMPLES-----\n",
    "                                                        \n",
    "        Original thesis statement: \n",
    "        \n",
    "        {thesis}\n",
    "        \"\"\")\n",
    "    \n",
    "    query_parsing_chain = prompt_template | llm_structured \n",
    "    parsed_thesis = query_parsing_chain.invoke({\"thesis\": thesis[0].content}) \n",
    "    return {\"thesis_parts\": [parsed_thesis.thesis_part_1, parsed_thesis.thesis_part_2, parsed_thesis.thesis_part_3], \"iteration_counter\": -1}\n",
    "    "
   ]
  },
  {
   "cell_type": "markdown",
   "metadata": {},
   "source": [
    "### Tests for query_parsing_node"
   ]
  },
  {
   "cell_type": "code",
   "execution_count": null,
   "metadata": {},
   "outputs": [],
   "source": [
    "output = query_parsing_node({\"thesis\": \"Social media has revolutionized communication and societal interactions, but it also presents significant challenges related to privacy, mental health, and misinformation.\"}) \n",
    "\n",
    "output = output.content \n",
    "\n",
    "output_2 = output.split(\" #\")\n",
    "\n",
    "print(output_2)"
   ]
  },
  {
   "cell_type": "code",
   "execution_count": null,
   "metadata": {},
   "outputs": [],
   "source": [
    "for i in output[\"thesis_parts\"]: \n",
    "    print(i)"
   ]
  },
  {
   "cell_type": "code",
   "execution_count": null,
   "metadata": {},
   "outputs": [],
   "source": [
    "output = query_parsing_node({\"thesis\": \"Globalization has created a world more interconnected than ever before, yet it also amplifies economic disparities and cultural homogenization.\"}) \n",
    "\n",
    "print(output)\n",
    "print(output[\"thesis_parts\"][0])\n",
    "print(output[\"thesis_parts\"][1])\n",
    "print(output[\"thesis_parts\"][-1])"
   ]
  },
  {
   "cell_type": "code",
   "execution_count": null,
   "metadata": {},
   "outputs": [],
   "source": [
    "output = query_parsing_node({\"thesis\": \"Urbanization drives economic growth and social development, but it also poses unique challenges in sustainability and quality of life.\"}) \n",
    "\n",
    "print(output) \n",
    "print(\"-\" * 50)\n",
    "output_list = output.split(\"\\n\")\n",
    "print(output_list)\n",
    "print(type(output_list))\n",
    "print(\"-\" * 50) \n",
    "for thesis_part in output_list: \n",
    "    print(thesis_part)\n",
    "    print(type(thesis_part))\n",
    "    print(\"-\" * 10)"
   ]
  },
  {
   "cell_type": "code",
   "execution_count": null,
   "metadata": {},
   "outputs": [],
   "source": [
    "output = query_parsing_node({\"thesis\": \"Immigration enriches receiving countries culturally and economically, outweighing any perceived social or economic burdens.\"}) \n",
    "\n",
    "print(output)"
   ]
  },
  {
   "cell_type": "markdown",
   "metadata": {},
   "source": [
    "# load_thesis_part_node "
   ]
  },
  {
   "cell_type": "code",
   "execution_count": 39,
   "metadata": {},
   "outputs": [],
   "source": [
    "def load_thesis_part_node(state: Custom_State):\n",
    "    # list_1 = state[\"thesis_parts\"][0].split(\"\\n\")\n",
    "    # parts = state[\"thesis_parts\"][-1] \n",
    "    return {\"recent_thesis_part\": state[\"thesis_parts\"][-1]}"
   ]
  },
  {
   "cell_type": "code",
   "execution_count": 40,
   "metadata": {},
   "outputs": [],
   "source": [
    "def load_thesis_part_node_new(state: Custom_State):\n",
    "    if abs(state[\"iteration_counter\"]) <= len(state[\"thesis_parts\"]):\n",
    "        return {\"recent_thesis_part\": state[\"thesis_parts\"][state[\"iteration_counter\"]]}\n",
    "    else: \n",
    "        pass"
   ]
  },
  {
   "cell_type": "markdown",
   "metadata": {},
   "source": [
    "# assistant_node"
   ]
  },
  {
   "cell_type": "code",
   "execution_count": 41,
   "metadata": {},
   "outputs": [],
   "source": [
    "from langgraph.graph import StateGraph, START, END\n",
    "\n",
    "sys_msg = SystemMessage(content = \"\"\"\n",
    "                        You are a helpful assistant tasked with pulling text gathered from the web in order to aid the user in completing their research paper based on their provided thesis statement.\n",
    "                        Use the entire provided thesis as the input for your web search. \n",
    "                        Return all text/information gathered from the web search in a raw but human readable format. \n",
    "                        At the very end, include the url from the web search that was used to gather all of this text/information and include '----------------------------------------------------' on a new line after the url as a separator between different/unique web search results. \n",
    "                        ONLY SEARCH FROM trust-worthy sources from the web search such as Google Scholar, JSTOR, ScienceDirect, and other academic databases. \n",
    "                        If a source does not seem to be trustworthy, skip the source and execute the search again, for a maximum of 3 iterations.\n",
    "                        DO NOT write the user's research paper for them. \n",
    "                        \n",
    "                        -------------------------------------------------------------\n",
    "                        \n",
    "                        USE THE THESIS PART BELOW AS THE INPUT TO 'exa_search_node'\n",
    "                        \"\"\")\n",
    "\n",
    "# prompt = ChatPromptTemplate.from_template(template = \"\"\"\n",
    "#                         You are a helpful assistant tasked with pulling text gathered from the web in order to aid the user in completing their research paper based on their provided thesis statement.\n",
    "#                         Use the entire provided thesis as the input for your web search. \n",
    "#                         Return all text/information gathered from the web search in a raw but human readable format. \n",
    "#                         At the very end, include the url from the web search that was used to gather all of this text/information and include '----------------------------------------------------' on a new line after the url as a separator between different/unique web search results. \n",
    "#                         ONLY SEARCH FROM trust-worthy sources from the web search such as Google Scholar, JSTOR, ScienceDirect, and other academic databases. \n",
    "#                         If a source does not seem to be trustworthy, skip the source and execute the search again, for a maximum of 3 iterations.\n",
    "#                         DO NOT write the user's research paper for them. \n",
    "                        \n",
    "#                         -------------------------------------------------------------\n",
    "                        \n",
    "#                         USE THE THESIS PART BELOW AS THE INPUT TO 'exa_search_node' \n",
    "                        \n",
    "#                         recent_thesis_part: {recent_thesis_part}\n",
    "#                         \"\"\")\n",
    "\n",
    "def assistant_node(state: Custom_State): \n",
    "    # chain = prompt | llm_with_tools \n",
    "    # return {\"context\": [chain.invoke({\"recent_thesis_part\": state[\"recent_thesis_part\"]})]}\n",
    "    # return {\"context\": [llm_with_tools.invoke([sys_msg] + [state[\"recent_thesis_part\"]])]}\n",
    "    return None"
   ]
  },
  {
   "cell_type": "markdown",
   "metadata": {},
   "source": [
    "# remove_one_thesis_part_node"
   ]
  },
  {
   "cell_type": "code",
   "execution_count": 42,
   "metadata": {},
   "outputs": [],
   "source": [
    "def remove_one_thesis_part_node(state: Custom_State): \n",
    "    return {\"thesis_parts\": state[\"thesis_parts\"][0: -1]}"
   ]
  },
  {
   "cell_type": "markdown",
   "metadata": {},
   "source": [
    "# Change iteration_counter"
   ]
  },
  {
   "cell_type": "code",
   "execution_count": 43,
   "metadata": {},
   "outputs": [],
   "source": [
    "def change_iteration_counter_node(state: Custom_State): \n",
    "    return {\"iteration_counter\": state[\"iteration_counter\"] - 1}"
   ]
  },
  {
   "cell_type": "markdown",
   "metadata": {},
   "source": [
    "# Conditional Edge for assistant_node"
   ]
  },
  {
   "cell_type": "code",
   "execution_count": 44,
   "metadata": {},
   "outputs": [],
   "source": [
    "from typing import Literal\n",
    "\n",
    "def thesis_part_conditional_edge(state: Custom_State) -> Literal[\"exa_search_node\", \"text_and_quote_extractor_node\"]: \n",
    "    if hasattr(state[\"context\"][-1], \"tool_calls\") and len(state[\"context\"][-1].tool_calls) > 0 and len(state[\"thesis_parts\"]) > 0: \n",
    "        return \"exa_search_node\" \n",
    "    else: \n",
    "        return \"text_and_quote_extractor_node\""
   ]
  },
  {
   "cell_type": "code",
   "execution_count": 45,
   "metadata": {},
   "outputs": [],
   "source": [
    "def thesis_part_conditional_edge_new(state: Custom_State) -> Literal[\"exa_search_node_new\", \"text_and_quote_extractor_node\"]: \n",
    "    if len(state[\"thesis_parts\"]) > 0 and state[\"thesis_parts\"][-1] != None and abs(state[\"iteration_counter\"]) <= len(state[\"thesis_parts\"]): \n",
    "        return \"exa_search_node_new\" \n",
    "    else: \n",
    "        return \"text_and_quote_extractor_node\""
   ]
  },
  {
   "cell_type": "markdown",
   "metadata": {},
   "source": [
    "# text_and_quote_extractor_node"
   ]
  },
  {
   "cell_type": "code",
   "execution_count": 70,
   "metadata": {},
   "outputs": [],
   "source": [
    "def text_and_quote_extractor_node(state: Custom_State): \n",
    "    context = state[\"context\"] \n",
    "    original_thesis = state[\"thesis\"] \n",
    "    len_context = len(context)\n",
    "    context_str = \"\" \n",
    "    for i in context: \n",
    "        context_str += str(i)\n",
    "    system_message_template = ChatPromptTemplate.from_template(template = \"\"\"\n",
    "        Given the original thesis statement below and all of the provided context, return reasoning as to why the websites, articles, or academic papers found through the web searchs assist the user in writing their research paper. \n",
    "        You must return SPECIFIC QUOTATIONS from the websites, articles, or academic papers themselves that the user can utilize within their own research paper. \n",
    "        Display all reasoning in a numbered list format with the urls for each piece of reasoning at the end of the line. \n",
    "        DO NOT write the user's research paper for them.\n",
    "        VERY IMPORTANT, USE ONLY THE PROVIDED ORIGINAL THESIS AND CONTEXT, DO NOT RETRIEVE INFORMATION FROM YOUR OWN INTERNAL DATABASE\n",
    "                                   \n",
    "        ----------------------------------------------------------------------------------------------------------------------------------------------\n",
    "        \n",
    "        **IMPORTANT**\n",
    "                              \n",
    "        Original Thesis Statement: **{original_thesis}**\n",
    "                                   \n",
    "        Given Context: \n",
    "                                   \n",
    "        {context}\n",
    "        \"\"\")\n",
    "    text_and_quote_extractor_chain = system_message_template | llm | StrOutputParser()\n",
    "    return {\"final_response\": text_and_quote_extractor_chain.invoke({\"original_thesis\": original_thesis[0].content, \"context\": context_str, \"len_context\": len_context})}"
   ]
  },
  {
   "cell_type": "code",
   "execution_count": 71,
   "metadata": {},
   "outputs": [
    {
     "data": {
      "image/jpeg": "[encoded data removed]",
      "text/plain": [
       "<IPython.core.display.Image object>"
      ]
     },
     "metadata": {},
     "output_type": "display_data"
    }
   ],
   "source": [
    "from IPython.display import Image, display\n",
    "from langgraph.prebuilt import ToolNode, tools_condition # tools_condition is not used here \n",
    "from langgraph.checkpoint.memory import MemorySaver\n",
    "\n",
    "builder = StateGraph(Custom_State) \n",
    "\n",
    "builder.add_node(\"query_parsing_node\", query_parsing_node) \n",
    "builder.add_node(\"assistant_node\", assistant_node)\n",
    "builder.add_node(\"exa_search_node_new\", exa_search_node_new) \n",
    "# builder.add_node(\"remove_one_thesis_part_node\", remove_one_thesis_part_node)\n",
    "builder.add_node(\"change_iteration_counter_node\", change_iteration_counter_node)\n",
    "builder.add_node(\"text_and_quote_extractor_node\", text_and_quote_extractor_node)\n",
    "builder.add_node(\"load_thesis_part_node_new\", load_thesis_part_node_new)\n",
    "\n",
    "builder.add_edge(START, \"query_parsing_node\") \n",
    "builder.add_edge(\"query_parsing_node\", \"load_thesis_part_node_new\") \n",
    "builder.add_edge(\"load_thesis_part_node_new\", \"assistant_node\")\n",
    "builder.add_conditional_edges(\"assistant_node\", thesis_part_conditional_edge_new)\n",
    "builder.add_edge(\"exa_search_node_new\", \"change_iteration_counter_node\")  \n",
    "builder.add_edge(\"change_iteration_counter_node\", \"load_thesis_part_node_new\")\n",
    "builder.add_edge(\"text_and_quote_extractor_node\", END)\n",
    "\n",
    "graph = builder.compile(checkpointer = MemorySaver()) # interrupt_before = [\"load_thesis_part_node\"]\n",
    "\n",
    "display(Image(graph.get_graph(xray = True).draw_mermaid_png()))"
   ]
  },
  {
   "cell_type": "code",
   "execution_count": 72,
   "metadata": {},
   "outputs": [
    {
     "name": "stdout",
     "output_type": "stream",
     "text": [
      "{'thesis': [HumanMessage(content='Mandatory school uniforms should be implemented in educational institutions as they promote a sense of equality, reduce distractions, and foster a focused and professional learning environment.', additional_kwargs={}, response_metadata={})], 'thesis_parts': ['Mandatory school uniforms should be implemented in educational institutions as they promote a sense of equality.', 'Mandatory school uniforms should be implemented in educational institutions as they reduce distractions.', 'Mandatory school uniforms should be implemented in educational institutions as they foster a focused and professional learning environment.'], 'context': ['Information from source 1:\\n\\ntrack order\\n   user login\\nOne stop solution for school related shopping\\n\"ShopforSchool.in is a dynamic online platform, making one-stop-shopping a satisfying experience by delivering a wide range of quality products at your doorstep. We house unique products, ranging from books to stationery &amp; apparel to footwear.\\nTrouble Logging in?\\n+91 7666 477 477 | wecare@shopforschool.in\\n    help manual\\n \\nCopyright © 2019 www.shopforschool.in\\n||||I|||| * track order\\n* user login\\nOne stop solution\\nfor school related shopping\\nPlease select your school to start shopping PODAR INTERNATIONAL SCHOOL Hingoli-2 Lilavatibai Podar Sr. Secondary School - Santacruz (ICSE) Maruti Suzuki Podar Learn School Podar Blossom School (SSC) - Chakan Podar International School (CBSE) - Amravati 2 (Badnera Road) Podar International School (CBSE) - Arsikere Podar International School (CBSE) - Ballarpur Podar International School (CBSE) - Bhiwandi Podar International School (CBSE) - Deolali Podar International School (CBSE) - Devengere Podar International School (CBSE) - Gangapur Podar International School (CBSE) - Goa Podar International School (CBSE) - Himmatnagar Podar International School (CBSE) - Howrah Podar International School (CBSE) - Igatpuri Podar International School (CBSE) - Jabalpur Podar International School (CBSE) - Jalandhar Podar International School (CBSE) - Kankavli Podar International School (CBSE) - Ludhiana Podar International School (CBSE) - Mira Road, Mumbai Podar International School (CBSE) - Muzzaffarpur Podar International School (CBSE) - Mysore 2 (Hebbal Industrial Area) Podar International School (CBSE) - Ojhar Podar International School (CBSE) - Parathwada Podar International School (CBSE) - Pathardi Podar International School (CBSE) - Sara City Podar International School (CBSE) - SHIMOGA 2 (Gopalagowda Extension) Podar International School (CBSE) - Vasai Podar International School - Ahmedabad (CBSE) Podar International School - Ahmednagar (CBSE) Podar International School - Akola Podar International School - Ambegaon Podar International School - Ambejogai(CBSE) Podar International School - Ambernath (CBSE) Podar International School - Amravati 1 (Kathora Road) Podar International School - Amreli (CBSE) Podar International School - Anand Podar International School - Aurangabad (CBSE) Podar International School - Aurangabad (ICSE) Podar International School - Aurangabad (Sundarwadi) Podar International School - Baramati Podar International School - Beed Podar International School - Belagavi (CBSE) Podar International School - Bengaluru (ICSE) Podar International School - Bengaluru (Kalkere) (CBSE) Podar International School - Bengaluru (Magadi Road) (CBSE) Podar International School - Bhandara Podar International School - Bhavnagar Podar International School - Bhopal (CBSE) Podar International School - Bhusawal Podar International School - Buldhana (CBSE) Podar International School - Chakan Podar International School - Chalisgaon Podar International School - Chandrapur (CBSE) Podar International School - Chhindwara (CBSE) Podar International School - Chinchwad (CBSE) Podar International School - Daund Podar International School - Dhule Podar International School - Gandhidham (CBSE) Podar International School - Gandhinagar (CBSE) Podar International School - Gaya (CBSE) Podar International School - Gondia Podar International School - Gwalior Podar International School - Hassan (ICSE) PODAR INTERNATIONAL SCHOOL - HAYATHNAGAR Podar International School - Hingoli (CBSE) Podar International School - Ichalkaranji (Proposed CBSE) Podar International School - Indore Podar International School - Jalgaon Podar International School - Jalna (Proposed CBSE) Podar International School - Jamnagar Podar International School - Junagadh Podar International School - Kalyan (CBSE) Podar International School - Kalyan (CIE) Podar International School - Kalyan (ICSE) Podar International School - Kanakpura Podar International School - Karad Podar International School - Katni Podar International School - Khandwa Podar International School - Kolhapur Podar International School - Latur Podar International School - Mandya Podar International School - Mangalore (CBSE) Podar International School - Mehsana (CBSE) Podar International School - Mumbai (IB) Podar International School - Mumbai (SSC) Podar International School - Mysore 1 (Vijayanagar) Podar International School - Nadiad (CBSE) Podar International School - Nagpur (Katol) (CBSE) Podar International School - Nagpur(Besa) Podar International School - Nagpur(Koradi) (CBSE) Podar International School - Nanded Podar International School - Nandurbar Podar International School - Nashik (ICSE) Podar International School - Navsari (CBSE) Podar International School - Nerul (ICSE) Podar International School - Nerul(CBSE) Podar International School - Nerul(CIE) Podar International School - Osmanabad (CBSE) Podar International School - Parbhani Podar International School - Patiala Podar International School - Pimpri (ICSE) Podar International School - Powai (CIE) Podar International School - Powai(CBSE) Podar International School - Pune (Wagholi) Podar International School - Raipur Podar International School - Rajkot Podar International School - Ratlam (Proposed CBSE) Podar International School - Ratnagiri (CBSE) Podar International School - Samastipur (CBSE) Podar International School - Sangamner Podar International School - Sangli Podar International School - Satara Podar International School - SHIMOGA 1 (Vidyanagar) Podar International School - Shirur Podar International School - Solapur Podar International School - Surat Podar International School - Surat 2 Podar International School - Talegaon (Proposed CBSE) Podar International School - Thane (CBSE) Podar International School - Thane (CIE) Podar International School - Tirupati (Proposed CBSE) Podar International School - Tumkur (CBSE) Podar International School - Udupi (CBSE) Podar International School - Ujjain (CBSE) Podar International School - Vadodara Podar International School - Vapi Podar International School - Vastral (Ahmedabad) Podar International School - Veraval Podar International School - Wakad Podar International School - wakad (CIE) Podar International School - Waluj Podar International School - Wardha Podar International School - Washim (CBSE) Podar International School - Yavatmal Podar Jumbo Kids - Andheri Podar Jumbo Kids - Aurangabad Podar Jumbo Kids - Bandra(East) Podar Jumbo Kids - Belapur Podar Jumbo Kids - Chinchwad PODAR JUMBO KIDS - JUNAGADH Podar Jumbo Kids - Kharghar Podar Jumbo Kids - Nigdi Podar Jumbo Kids - Pimplesaudagar Podar Jumbo Kids - Pimpri Podar Jumbo Kids - Raipur Podar Jumbo Kids - Talegaon Podar Jumbo Kids - Ujjain Podar Jumbo Kids - Ulhasnagar Podar Jumbo Kids - Vadgaon2 Podar Jumbo Kids - Vile Parle Podar Jumbo Kids Bavdhan Podar Jumbo Kids Mulund East Podar Jumbo Kids Plus - Khar Podar Jumbo Kids Plus International - Santacruz(west) Podar Jumbo Kids Sarvottam Nagar (Chhindwara) Podar-ORT International School - Worli (IB) R N Podar School - Santacruz\\nstart shopping\\nsearch by location\\n\"ShopforSchool.in is a dynamic online platform, making one-stop-shopping a satisfying experience by delivering a wide range of quality products at your doorstep. We house unique products, ranging from books to stationery & apparel to footwear.\\nTrouble Logging in?\\n+91 7666 477 477 | wecare@shopforschool.in\\nhelp manual\\nCopyright © 2019\\nwww.shopforschool.in\\nTrack order\\n×\\ntrack order\\nuser login\\n×\\n* Existing Users\\n* New User\\nsign up\\nforgot password\\n×\\nsend password\\nYour password would be emailed to your registered email address\\nSearch by location\\n×\\nSelect State\\nSelect City\\nSelect School\\nstart shopping\\n\\nSource URL: \\n\\nhttps://www.shopforschool.in/\\n\\n----------------------------------------------------------------------------------------------------\\n\\n', 'Information from source 2:\\n\\nERIC Number: ED458695  Record Type: Non-Journal  Publication Date: 1999-Dec  Pages: 13  Abstractor: N/A  ISBN: N/A  ISSN: N/A  EISSN: N/A  The Influence of a Mandatory School Uniform Policy.  This essay examines the influence of a mandatory school-uniform dress code on academic achievement and discipline infractions. In addition, student gender and type of school district were compared to show the influence of this policy. Only schools that implemented a mandatory school-uniform policy in 1996 and had data for discipline infractions and academic achievement for the 1995-96 and 1996-97 school years were eligible for inclusion in the study. Subjects consisted of students in a southern Florida school district located in a predominately rural area. The final sample included 6 middle schools and 80 elementary schools from 2 school districts. Results show that elementary-school students in both rural and urban school districts demonstrated improvement in academic achievement for the first year following the implementation of the school-uniform policy. The discipline infractions of out-of-school suspensions and juvenile referrals had a statistically significant improvement. Middle-school students did not have a significant decrease for discipline infractions for the school year 1996-97. The numbers of students not promoted to the next grade showed a significant effect by district type but not by gender. Further research is needed on the importance of dress to influence educators as they help students achieve a healthier self-esteem. (Contains 15 references.) (RJM)    Publication Type: Reports - Research; Speeches/Meeting Papers  Education Level: N/A  Audience: N/A  Language: English  Sponsor: N/A  Authoring Institution: N/A  Identifiers - Location: Florida  Grant or Contract Numbers: N/A\\n\\nSource URL: \\n\\nhttps://eric.ed.gov/?id=ED458695\\n\\n----------------------------------------------------------------------------------------------------\\n\\n', \"Information from source 3:\\n\\n© 2023 Leddy Uniforms Ireland | Workwear &amp; Uniforms, Safety Workwear Delivery Ireland ALL RIGHT RESERVED.    Facebook   Twitter   Google Plus   RSS Feed    ||||I|||| * Dublin\\n* Wexford\\n* Cavan\\n*\\n* 0\\n* 0\\n*\\n* Home\\n* Workwear\\n+ Healthcare\\n+ Chef Wear\\n+ Safety – Workwear\\n+ Scrubs\\n* Schoolwear\\n+ Primary School Wear\\n+ Secondary School Wear\\n+ Generic Schoolwear\\n+ Irish Dancing\\n* Dancewear\\n+ Dancewear\\n* Our Stores\\n* Delivery\\n+ Returns Policy\\n* Contact\\nHome > Primary School Wear\\nPrimary School Wear\\n* Aughadreena NS\\n* Bailieborough NS\\n* Ballycanew NS\\n* Ballyconnell Central\\n* Ballyconnell SNB\\n* Ballygarret NS\\n* Ballynarry NS\\n* Bunscoil Loreto Gorey\\n* Butlersbridge NS\\n* Castletara NS\\n* Christ the King NS\\n* Convent of mercy Belturbet\\n* Craanford NS\\n* Crosskeys St Marys\\n* Crubany NS\\n* Currin NS\\n* Drumcrave NS\\n* Drumkilly NS\\n* Farnham NS\\n* Gaelscoil An Chuilinn\\n* Gorey central NS\\n* Greaghrahan NS\\n* Kildallan NS\\n* Killeshandra NS (COI)\\n* Killinkere NS\\n* Killyconnan NS\\n* Killygarry NS\\n* Ladyswell Mulhuddart\\n* Laragh NS Stradone\\n* Mary Help Of Christians\\n* Mary Mother of Hope NS\\n* Monaseed NS\\n* Mount Sackville Primary\\n* Mullahoran Central NS\\n* North Dublin Muslim NS\\n* River Chapel NS\\n* Sacred Heart of Jesus\\n* Scoil Bhride Killeshandra\\n* Scoil Bhríde Buachaillí\\n* Scoil Bhríde Cailíní\\n* Scoil Choilm CNS\\n* Scoil Mhuire Blakestown Jnr\\n* Scoil Mhuire Blakestown Snr\\n* Scoil Oilibheir Coolmine\\n* Scoil Sinead Pelletstown\\n* Scoil Thomais Castleknock\\n* Shaheeda Zainab\\n* St. Bosco Juniors\\n* St. Bosco Seniors\\n* St. Catherines Snr\\n* St. Clares NS Cavan\\n* St. Felims NS\\n* St. Francis Xaviers\\n* St. Joseph’s NS Gorey\\n* St. Joseph’s NS kilmuckridge\\n* St. Mary's boys Belturbet\\n* St. Marys NS Virginia\\n* St. Mochtas Porterstown\\n* St. Patrick's Corduff Jnr\\n* St. Patrick's Corduff Snr\\n* St. Patrick's Diswellstown\\n* Thulach na nOg Dunboyne\\n© 2023 Leddy Uniforms Ireland | Workwear & Uniforms, Safety Workwear Delivery Ireland\\nALL RIGHT RESERVED.\\n* Facebook\\n* Twitter\\n* Google Plus\\n* RSS Feed\\n* Home\\n* My account\\n* Cart\\n* Contact\\n* Compare\\n* Wishlist\\n* Returns policy\\n* Delivery\\nSubscribe our Newsletter\\nEmail\\n3, St Brigid's Shopping Centre, Main St, Blanchardstown, Dublin 15, Ireland - D15XH92\\n+353 1 823 5466 sales@leddyuniforms.ie\\nCreated by NextWebDesign\\n\\nSource URL: \\n\\nhttps://www.leddyuniforms.com/schoolwear/primary-school-wear/\\n\\n----------------------------------------------------------------------------------------------------\\n\\n\"], 'recent_thesis_part': 'Mandatory school uniforms should be implemented in educational institutions as they promote a sense of equality.', 'iteration_counter': -4, 'final_response': '1. The study titled \"The Influence of a Mandatory School Uniform Policy\" provides empirical evidence supporting the thesis that mandatory school uniforms can enhance academic achievement. It states, \"Results show that elementary-school students in both rural and urban school districts demonstrated improvement in academic achievement for the first year following the implementation of the school-uniform policy.\" This directly supports the claim that uniforms foster a focused learning environment. [Source URL: https://eric.ed.gov/?id=ED458695]\\n\\n2. The same study also highlights the impact of uniforms on discipline, noting that \"the discipline infractions of out-of-school suspensions and juvenile referrals had a statistically significant improvement.\" This suggests that uniforms can reduce distractions and behavioral issues, further supporting the thesis. [Source URL: https://eric.ed.gov/?id=ED458695]\\n\\n3. The context provided by ShopforSchool.in emphasizes the practicality and accessibility of school uniforms, stating, \"ShopforSchool.in is a dynamic online platform, making one-stop-shopping a satisfying experience by delivering a wide range of quality products at your doorstep.\" This indicates that the implementation of uniforms can be facilitated easily, promoting equality among students by ensuring that all have access to the same attire. [Source URL: https://www.shopforschool.in/]\\n\\n4. The Leddy Uniforms website offers a variety of schoolwear options, which can be referenced to illustrate the availability and diversity of uniforms. The site states, \"We house unique products, ranging from books to stationery & apparel to footwear,\" which can be used to argue that uniforms are not only practical but also contribute to a professional learning environment. [Source URL: https://www.leddyuniforms.com/schoolwear/primary-school-wear/]'}\n",
      "--------------------------------------------------\n",
      "1. The study titled \"The Influence of a Mandatory School Uniform Policy\" provides empirical evidence supporting the thesis that mandatory school uniforms can enhance academic achievement. It states, \"Results show that elementary-school students in both rural and urban school districts demonstrated improvement in academic achievement for the first year following the implementation of the school-uniform policy.\" This directly supports the claim that uniforms foster a focused learning environment. [Source URL: https://eric.ed.gov/?id=ED458695]\n",
      "\n",
      "2. The same study also highlights the impact of uniforms on discipline, noting that \"the discipline infractions of out-of-school suspensions and juvenile referrals had a statistically significant improvement.\" This suggests that uniforms can reduce distractions and behavioral issues, further supporting the thesis. [Source URL: https://eric.ed.gov/?id=ED458695]\n",
      "\n",
      "3. The context provided by ShopforSchool.in emphasizes the practicality and accessibility of school uniforms, stating, \"ShopforSchool.in is a dynamic online platform, making one-stop-shopping a satisfying experience by delivering a wide range of quality products at your doorstep.\" This indicates that the implementation of uniforms can be facilitated easily, promoting equality among students by ensuring that all have access to the same attire. [Source URL: https://www.shopforschool.in/]\n",
      "\n",
      "4. The Leddy Uniforms website offers a variety of schoolwear options, which can be referenced to illustrate the availability and diversity of uniforms. The site states, \"We house unique products, ranging from books to stationery & apparel to footwear,\" which can be used to argue that uniforms are not only practical but also contribute to a professional learning environment. [Source URL: https://www.leddyuniforms.com/schoolwear/primary-school-wear/]\n"
     ]
    }
   ],
   "source": [
    "config = {\"configurable\": {\"thread_id\": \"thesis_agent_example_2\"}}\n",
    "\n",
    "thesis_statement = [HumanMessage(content = \"Mandatory school uniforms should be implemented in educational institutions as they promote a sense of equality, reduce distractions, and foster a focused and professional learning environment.\")]\n",
    "complete_message = graph.invoke({\"thesis\": thesis_statement}, config = config) \n",
    "\n",
    "print(complete_message) \n",
    "print(\"-\" * 50) \n",
    "print(complete_message[\"final_response\"])"
   ]
  },
  {
   "cell_type": "code",
   "execution_count": null,
   "metadata": {},
   "outputs": [],
   "source": [
    "from pprint import pprint\n",
    "\n",
    "state = graph.get_state(config) \n",
    "pprint(state)"
   ]
  },
  {
   "cell_type": "code",
   "execution_count": 76,
   "metadata": {},
   "outputs": [
    {
     "name": "stdout",
     "output_type": "stream",
     "text": [
      "{'thesis': [HumanMessage(content='Social media has revolutionized communication and societal interactions, but it also presents significant challenges related to privacy, mental health, and misinformation.', additional_kwargs={}, response_metadata={})], 'thesis_parts': ['Social media has revolutionized communication and societal interactions, but it also presents significant challenges related to privacy.', 'Social media has revolutionized communication and societal interactions, but it also presents significant challenges related to mental health.', 'Social media has revolutionized communication and societal interactions, but it also presents significant challenges related to misinformation.'], 'context': ['Information from source 1:\\n\\nSection navigation\\nWHO and partners recognize that misinformation online has the potential to travel further, faster and sometimes deeper than the truth — on some social media platforms, falsehoods are 70% more likely to get shared than accurate news. To counter this,\\nWHO has taken a number of actions with tech companies to remain one step ahead.  \\n   Changing social media policy and guidelines    WHO works with social media policy departments to ensure company policy and guidelines for content providers are fit for purpose. For example, WHO worked with YouTube to enhance their COVID-19 Misinformation Policy and provide guidelines for content providers\\nto ensure no medical misinformation related to the virus proliferates on their platform. Policy updates such as this have led to the removal of 850,000 YouTube videos related to harmful or misleading COVID-19 misinformation from February 2020 to January\\n2021.   \\n \\n   Reporting Misinformation     Social media platforms have also granted WHO access to fast track reporting systems, which allows us to flag misinformation on their platforms, speeding up the reporting and removal of content that breaks policy. WHO also works with Member States such\\nas the Government of the United Kingdom to raise awareness of misinformation around COVID-19 and vaccines, and encourage individuals to report false or misleading content online.   \\n   Leveraging data insights     On a weekly basis, WHO works with YouTube, Google, Facebook and several other partners such as NewsGuard to obtain industry-leading insights that help identify burgeoning misinformation and subsequently allows WHO to target science-based health information\\nwhere it’s needed most.\\n\\nSource URL: \\n\\nhttps://www.who.int/teams/digital-health-and-innovation/digital-channels/combatting-misinformation-online\\n\\n----------------------------------------------------------------------------------------------------\\n\\n', 'Information from source 2:\\n\\nYou are growing up in a world where social media has always been a part of connecting with others, especially friends and classmates. Social media has made it possible to stay connected to other people from almost anywhere and at any time.\\nHowever, digital platforms can also make things more difficult for you emotionally. It’s important to recognize when patterns of social media use are unhelpful and understand the potential consequences.\\nLearning People Skills\\nHave you ever noticed how intensely babies look at the faces of people around them? Our brains are wired to use our senses to connect with others; by seeing their facial expressions, hearing their tone of voice and noticing their reactions as we speak, we learn important social cues and effective communication habits.\\nIt is a complicated and ongoing learning process that can be negatively impacted by social media. If the majority of your interactions with others are coming through a screen or in written messages, especially when you are young and your brain is still developing, you may be missing out on opportunities to improve your people skills through face-to-face communication.\\nOnline Bullying\\nYou are most likely aware that sometimes people behave or interact online in ways they would not in person. This might include bullying, using offensive or insulting language or other hurtful behaviors. When this behavior happens on social media, it is generally viewed and even shared widely — making it difficult to reduce its impact.\\nIf this happens to you, it’s understandable to feel hurt or down about it. To stop the bullying from continuing, it’s important to report what’s happening — both on the social media platform you are using and to let an adult that you trust know about it.\\nComparing Ourselves to Others\\nPeople often present unrealistic or adjusted images of themselves and their lives on social media. They may only share the fun and exciting aspects of their lives, never mentioning any of their private struggles — or they may digitally edit photos to hide things they perceive as flaws. Constantly viewing these idealized depictions can lead to feeling competitive and/or unhappy if we try to compare ourselves to these images that may not be realistic.\\nIsolation\\nResearch has shown that people who spend more time on social media and less time in personal interactions with others have an increased risk of feeling anxious and depressed. However, it’s difficult to know which came first: if spending time online causes anxiety and depression or if young people who are depressed and anxious are more likely to be isolated, less active and spending time on social media. In either case, too much time online and too little time with others can have a negative impact on our mental health.\\nSuggestions for Protecting Your Mental Health\\nHere are a few suggestions to maintain your mental health while using social media:\\nLimit your time on social media platforms. Some platforms, such as Apple and Google, have settings to help you do this automatically on your phone.\\nConsider what sites and profiles you visit; if they make you feel bad, unfollow them\\nBefore you post something about yourself or someone else, consider if you would make this comment in an in-person setting\\nRemember that what you post will be very hard to take back or remove\\nRemember that what people post, or what you see, may not be honest or real presentations of their experiences or lives\\nLeave or unfollow a profile/page/site if it is making you feel worse\\nReport posts that are hurtful or making you worried\\nTell an adult you trust — a parent, teacher, school counselor — immediately if a friend is posting content that worries you or suggests that they may be in a serious situation\\n||||I||||\\nSkip to content\\nSearch Close Menu\\n* Sign In\\n* About Mental Illness\\nWays of Giving\\nExplore the different options for supporting NAMI\\'s mission.\\nLearn More\\n+ Main Menu\\n+ About Mental Illness\\n+ Warning Signs and Symptoms\\no About Mental Illness\\no Warning Signs and Symptoms\\n+ Mental Health Conditions\\no About Mental Illness\\no Mental Health Conditions\\n+ Common with Mental Illness\\no About Mental Illness\\no Common with Mental Illness\\n+ Treatments\\no About Mental Illness\\no Treatments\\n+ Mental Health By the Numbers\\no About Mental Illness\\no Mental Health By the Numbers\\n+ Research\\no About Mental Illness\\no Research\\n* Your Journey\\nWays of Giving\\nExplore the different options for supporting NAMI\\'s mission.\\nLearn More\\n+ Main Menu\\n+ Your Journey\\n+ Individuals with Mental Illness\\no Your Journey\\no Individuals with Mental Illness\\n+ Family Members and Caregivers\\no Your Journey\\no Family Members and Caregivers\\n+ Kids, Teens and Young Adults\\no Your Journey\\no Kids, Teens and Young Adults\\n+ Veterans & Active Duty\\no Your Journey\\no Veterans & Active Duty\\n+ Identity and Cultural Dimensions\\no Your Journey\\no Identity and Cultural Dimensions\\n+ Frontline Professionals\\no Your Journey\\no Frontline Professionals\\n* Support & Education\\nWays of Giving\\nExplore the different options for supporting NAMI\\'s mission.\\nLearn More\\n+ Main Menu\\n+ Support & Education\\n+ Mental Health Education\\no Support & Education\\no Mental Health Education\\n+ Support Groups\\no Support & Education\\no Support Groups\\n+ NAMI HelpLine\\no Support & Education\\no NAMI HelpLine\\n+ Publications & Reports\\no Support & Education\\no Publications & Reports\\n+ Justice Library\\no Support & Education\\no Justice Library\\n+ Video Resource Library\\no Support & Education\\no Video Resource Library\\n+ Online Discussion Groups\\no Support & Education\\no Online Discussion Groups\\n+ Find Your Local NAMI\\no Support & Education\\no Find Your Local NAMI\\n* Get Involved\\nSeeking Volunteers\\nFind out how you can be a NAMI HelpLine specialist.\\nLearn More\\n+ Main Menu\\n+ Get Involved\\n+ Find a NAMIWalk\\no Get Involved\\no Find a NAMIWalk\\n+ Attend the NAMI National Convention\\no Get Involved\\no Attend the NAMI National Convention\\n+ Become a Fundraiser\\no Get Involved\\no Become a Fundraiser\\n+ Create a Memorial Fundraiser\\no Get Involved\\no Create a Memorial Fundraiser\\n+ Pledge to Be StigmaFree\\no Get Involved\\no Pledge to Be StigmaFree\\n+ Awareness Events\\no Get Involved\\no Awareness Events\\n+ Share Your Story\\no Get Involved\\no Share Your Story\\n+ Partner with Us\\no Get Involved\\no Partner with Us\\n* Advocacy\\nWays of Giving\\nExplore the different options for supporting NAMI\\'s mission.\\nLearn More\\n+ Main Menu\\n+ Advocacy\\n+ Advocate for Change\\no Advocacy\\no Advocate for Change\\n+ Policy Priorities\\no Advocacy\\no Policy Priorities\\n+ NAMI Advocacy Actions\\no Advocacy\\no NAMI Advocacy Actions\\n+ Policy Platform\\no Advocacy\\no Policy Platform\\n+ Crisis Intervention\\no Advocacy\\no Crisis Intervention\\n+ State Fact Sheets\\no Advocacy\\no State Fact Sheets\\n+ Public Policy Reports\\no Advocacy\\no Public Policy Reports\\n* About NAMI\\nWays of Giving\\nExplore the different options for supporting our mission.\\nLearn More\\n+ Main Menu\\n+ About NAMI\\n+ Who We Are\\no About NAMI\\no Who We Are\\n+ What We Do\\no About NAMI\\no What We Do\\n+ Donate\\no About NAMI\\no Donate\\n+ Join\\no About NAMI\\no Join\\n+ Our Commitment to DEI\\no About NAMI\\no Our Commitment to DEI\\n+ Our Finances\\no About NAMI\\no Our Finances\\n+ Press & Media\\no About NAMI\\no Press & Media\\n+ Work at NAMI\\no About NAMI\\no Work at NAMI\\n+ NAMI Store\\no About NAMI\\no NAMI Store\\n+ Form a NAMI Affiliate\\no About NAMI\\no Form a NAMI Affiliate\\n* Join\\n* Sign In\\n* Renew\\n* Accessibility\\n* En Español\\n* Get Help\\n* News\\n* Blog\\n* DONATE NOW\\nSearch\\nHome | Your Journey | Kids, Teens and Young Adults | Teens | Social Media and Mental Health\\nSocial Media and Mental Health\\nYour Journey\\n* Individuals with Mental Illness expand\\n+ Understanding Health Insurance expand\\no Common Terms Related to Health Insurance expand\\no Are My Insurance Rights Being Violated? expand\\no How to File an Insurance Complaint expand\\no Types of Health Insurance expand\\no What to Do If You\\'re Denied Care By Your Insurance expand\\no What is Mental Health Parity? expand\\n+ Finding a Mental Health Professional expand\\no Finding Mental Health Care that Fits Your Cultural Background expand\\n+ Understanding Your Diagnosis expand\\n+ What to Do In a Crisis expand\\n+ Romantic Relationships expand\\n+ Faith & Spirituality expand\\n+ Disclosing to Others expand\\n+ Finding Stable Housing expand\\n+ Succeeding at Work expand\\n+ Getting Help Paying for Medications expand\\n+ Reentry After a Period of Incarceration expand\\n+ Disability Income and Benefits expand\\n* Family Members and Caregivers expand\\n+ Learning to Help Your Child and Your Family expand\\n+ Supporting Recovery expand\\n+ Maintaining a Healthy Relationship expand\\n+ Taking Care of Yourself expand\\n+ Being Prepared for a Crisis expand\\n+ Finding a Missing Loved One expand\\n+ Calling 911 and Talking with Police expand\\n+ Handling the Arrest of a Family Member expand\\n* Kids, Teens and Young Adults expand\\n+ Kids expand\\no What to Look For and When to Act expand\\no Finding Mental Health Care for Your Child expand\\no Getting Your Child Mental Health Support and Accommodations in School expand\\no What to Do If Your Child Is in Crisis expand\\no How to Talk to Your Child About Their Mental Health expand\\no Residential Treatment expand\\n+ Teens expand\\no Finding Help expand\\no How to Talk to My Friends expand\\no How to Talk to My Parents or Guardian expand\\no Social Media and Mental Health expand\\no Your Mental Health and School expand\\n+ Young Adults expand\\no Do I Have a Mental Health Condition? expand\\no How to Seek Help expand\\no Understanding Health Insurance expand\\no Mental Health in College expand\\no How to Disclose Your Mental Health Condition expand\\n+ What You Need to Know About Youth Suicide expand\\n+ Youth and Young Adult Resources expand\\n* Veterans & Active Duty expand\\n* Identity and Cultural Dimensions expand\\n+ Asian American and Pacific Islander expand\\no Expectations and Family Pressure expand\\n+ Black/African American expand\\no The Effects of Racial Trauma on Mental Health: Deaths Captured on TV and Media expand\\n+ Hispanic/Latinx expand\\no Hispanic/Latinx Immigrants and First-Generation Americans expand\\no La salud mental en la comunidad latina expand\\n+ Indigenous expand\\no Suicide Prevention in Indigenous Communities expand\\n+ LGBTQI expand\\no Trauma and Internalized Shame expand\\n+ People with Disabilities expand\\no Double Discrimination expand\\n* Frontline Professionals expand\\n+ Health Care Professionals expand\\no Peer Support Resources expand\\no Confidential and Professional Support expand\\no Building Resilience expand\\no Wellness Resources and Strategies expand\\no Family Support expand\\no Other Resources expand\\n+ Public Safety Professionals expand\\no Peer Support Resources expand\\no Confidential And Professional Support expand\\no Building Resilience expand\\no Wellness Resources and Strategies expand\\no Family Support expand\\no Other Resources expand\\nBecome a NAMI Youth Ambassador\\nSign up today and join us on our mission of supporting youth mental wellness.\\nLearn More\\nMental health conditions\\nLearn more about common mental health conditions that affect millions.\\nLearn More\\nFind Your Local NAMI\\nBY STATE Toggle Dropdown\\nAlabama Alaska Arizona Arkansas California Colorado Connecticut Delaware District of Columbia Florida Georgia Hawaii Idaho Illinois Indiana Iowa Kansas Kentucky Louisiana Maine Maryland Massachusetts Michigan Minnesota Mississippi Missouri Montana Nebraska Nevada New Hampshire New Jersey New Mexico New York North Carolina North Dakota Ohio Oklahoma Oregon Pennsylvania Puerto Rico Rhode Island South Carolina South Dakota Tennessee Texas Utah Vermont Virgin Islands Virginia Washington West Virginia Wisconsin Wyoming\\nGo\\nCall the NAMI Helpline at\\n800-950-6264\\nOr text \"HelpLine\" to 62640\\nDonate Now\\nYou are growing up in a world where social media has always been a part of connecting with others, especially friends and classmates. Social media has made it possible to stay connected to other people from almost anywhere and at any time.\\nHowever, digital platforms can also make things more difficult for you emotionally. It’s important to recognize when patterns of social media use are unhelpful and understand the potential consequences.\\nLearning People Skills\\nHave you ever noticed how intensely babies look at the faces of people around them? Our brains are wired to use our senses to connect with others; by seeing their facial expressions, hearing their tone of voice and noticing their reactions as we speak, we learn important social cues and effective communication habits.\\nIt is a complicated and ongoing learning process that can be negatively impacted by social media. If the majority of your interactions with others are coming through a screen or in written messages, especially when you are young and your brain is still developing, you may be missing out on opportunities to improve your people skills through face-to-face communication.\\nOnline Bullying\\nYou are most likely aware that sometimes people behave or interact online in ways they would not in person. This might include bullying, using offensive or insulting language or other hurtful behaviors. When this behavior happens on social media, it is generally viewed and even shared widely — making it difficult to reduce its impact.\\nIf this happens to you, it’s understandable to feel hurt or down about it. To stop the bullying from continuing, it’s important to report what’s happening — both on the social media platform you are using and to let an adult that you trust know about it.\\nComparing Ourselves to Others\\nPeople often present unrealistic or adjusted images of themselves and their lives on social media. They may only share the fun and exciting aspects of their lives, never mentioning any of their private struggles — or they may digitally edit photos to hide things they perceive as flaws. Constantly viewing these idealized depictions can lead to feeling competitive and/or unhappy if we try to compare ourselves to these images that may not be realistic.\\nIsolation\\nResearch has shown that people who spend more time on social media and less time in personal interactions with others have an increased risk of feeling anxious and depressed. However, it’s difficult to know which came first: if spending time online causes anxiety and depression or if young people who are depressed and anxious are more likely to be isolated, less active and spending time on social media. In either case, too much time online and too little time with others can have a negative impact on our mental health.\\nSuggestions for Protecting Your Mental Health\\nHere are a few suggestions to maintain your mental health while using social media:\\n* Limit your time on social media platforms. Some platforms, such as Apple and Google, have settings to help you do this automatically on your phone.\\n* Consider what sites and profiles you visit; if they make you feel bad, unfollow them\\n* Before you post something about yourself or someone else, consider if you would make this comment in an in-person setting\\n* Remember that what you post will be very hard to take back or remove\\n* Remember that what people post, or what you see, may not be honest or real presentations of their experiences or lives\\n* Leave or unfollow a profile/page/site if it is making you feel worse\\n* Report posts that are hurtful or making you worried\\n* Tell an adult you trust — a parent, teacher, school counselor — immediately if a friend is posting content that worries you or suggests that they may be in a serious situation\\nCall or text the NAMI Helpline at 800-950-6264,\\nor chat with us, M-F, 10 a.m. - 10 p.m. ET.\\nIn a crisis? Call or text 988.\\nFind Your Local NAMI\\nBY STATE Toggle Dropdown\\nAlabama Alaska Arizona Arkansas California Colorado Connecticut Delaware District of Columbia Florida Georgia Hawaii Idaho Illinois Indiana Iowa Kansas Kentucky Louisiana Maine Maryland Massachusetts Michigan Minnesota Mississippi Missouri Montana Nebraska Nevada New Hampshire New Jersey New Mexico New York North Carolina North Dakota Ohio Oklahoma Oregon Pennsylvania Puerto Rico Rhode Island South Carolina South Dakota Tennessee Texas Utah Vermont Virgin Islands Virginia Washington West Virginia Wisconsin Wyoming\\nGo\\nDONATE NOW\\nCopyright © 2023 NAMI.\\nAll Rights Reserved.\\nCONTACT US\\nNAMI\\n4301 Wilson Blvd., Suite 300\\nArlington, VA 22203\\nMain\\n703-524-7600\\nMember Services\\n888-999-6264\\nPress & Media\\nNAMI Store\\nAccessibility Toolbar\\nSite Map\\nDiscussion Groups Policy\\nPrivacy Policy\\nDisclaimer\\nState Disclaimer\\nLink Policy\\nNAMI Required Disclosures For Written Solicitations\\nNAMIStore Policies\\nTRADEMARKS\\nThe following are trademarks of NAMI: NAMI, NAMI Basics, NAMI Connection, NAMI Ending the Silence, NAMI FaithNet, NAMI Family & Friends, NAMI Family Support Group, NAMI Family-to-Family, NAMI Grading the States, NAMI Hearts & Minds, NAMI Homefront, NAMI HelpLine, NAMI In Our Own Voice, NAMI On Campus, NAMI Parents & Teachers as Allies, NAMI Peer-to-Peer, NAMI Provider, NAMI Smarts for Advocacy, Act4MentalHealth, Vote4MentalHealth, NAMIWalks and National Alliance on Mental Illness. All other programs and services are trademarks of their respective owners.\\nContact Us Main 703-524-7600\\nMember Services 888-999-6264\\nHelpLine 800-950-6264\\n4301 Wilson Blvd., Suite 300 Arlington, VA 22203\\nCopyright © 2021 NAMI. All Rights Reserved.\\n\\nSource URL: \\n\\nhttps://www.nami.org/Your-Journey/Kids-Teens-and-Young-Adults/Teens/Social-Media-and-Mental-Health\\n\\n----------------------------------------------------------------------------------------------------\\n\\n', 'Information from source 3:\\n\\nSocial media have taken over the Internet. People spend ever more time on Facebook, Twitter, LinkedIn, and others – but many forget (or are not concerned at all) about their privacy. Having presence on Internet ultimately builds a digital identity that is often different than the real person. Because your identity and image could be at stake, I have compiled this checklist to help you protect your privacy while indulging in social media.   Decide if your digital presence and persona is professional or individual – Having professional content in social media can assist your mission in carrier and business, while over-sharing personal data can trigger opposite effect.  Be aware of who you are sharing your information with – Customizing your settings in a way that you’re keeping strangers out and only sharing your information, posts and pictures with people in your inner circle goes a long way in protecting your privacy. Most websites will also give you the option to group friends into different categories, each of which gives you the option to limit or edit the kind of information shared. It’s advisable to take advantage of this option when available.   Remove any traces of yourself from Public Searches – Some websites grant you the ability to keep your profile from being found through a public search engine. If you’d like to remain hidden, look for this option to ensure you activate it. Many can find you easily just by your phone number.  Opt-out of check-ins – Many websites and apps allow you to check-in to geographic locations. Plenty of users don’t mind this option, while many actually choose to check-in publicly to let others know where they are. Remember however, that when you do tell others where you are, you’re also telling them where you aren’t – at home. Criminals can keep track of your activity to pick a time when you aren’t home and break-in. I recommend not checking in publicly.  Keep a close eye on social apps – There are plenty of apps which have access to your friends list, posts, pictures and other information. Manually editing the app privacy settings, either within the social website or each app individually on your phone to remove these intrusive permissions will help. I, for example, periodically go through my connected apps and remove the ones I no longer use.  Limit the amount of personal information you post – Personal information posted on public domains leaves you vulnerable. Abstaining from posting information such as your birth date, physical address among other details will keep away those meddling identity thieves. If you have friends and family posting information about you, ensure that it is information you are comfortable with strangers knowing about and nothing more.  Be wary of strangers – The internet makes it entirely easy for people to pose as someone they aren’t – misrepresenting their identities and motives. Consider privacy controls which limit the people who are allowed to contact you on social websites. When you interact with people you do not know, be careful with the amount of your personal information you reveal or even agreeing to meet a stranger in person.  Stay updated on Privacy Policy Changes on websites and Apps – Privacy policies are known to change frequently in social media websites so make sure you are aware of the policies and are regularly notified when updates happen. Reviewing your privacy settings often is also recommended.  What you need to build is a solid social media hygiene, where you are fully in control of how others see you in social media. At the end, you drive the destiny of your digital identity.       ||||I|||| CALL TODAY! +1 212 222 7061\\n* Home\\n* Contact Us\\n* Blog\\n* 24×7 Cyber 911 Response\\nReport incident\\n* IR & Forensics\\n+ Digital Forensics Services\\n+ Cyber Incident Response Retainer\\n+ Cyber Incident Response\\n+ Data Breach Response\\n+ Digital Forensics\\n+ Ransomware Response\\n+ Bitcoin Payments\\n* Proactive Security\\n+ Proactive Cyber Defense Services\\n+ Managed Threat Hunting & Response\\n+ Remote Cybersecurity Suite\\n+ The Daily T.R.U.T.H.\\n+ Remote Worker Cyber Resilience\\n+ Post Ransomware Threat Hunting Services\\n+ Cyber Threat Hunting\\n+ Penetration Testing\\n+ Secure Code Review\\n+ Phishing Attack Simulation\\n+ Managed Detection and Response\\n+ Ransomware Protection Package\\n+ Business Email Compromise\\n* Advisory\\n+ Cybersecurity Advisory Services\\n+ CISO as a Service\\n+ Gap Assessment\\n+ Cyber Resilience & Response\\n+ Compliance Advisory\\n+ Cloud Security Advisory\\n+ Project Management as a Service (PMaaS)\\n+ Tabletop Exercises\\n+ Cyber Resiliency Training\\n* SecurityScorecard\\n+ Request a Demo\\n+ Security Data\\n+ Security Ratings\\n+ Market Place\\n+ Security Assessments\\n* Resources\\n+ Case Studies\\n+ Technical Tools\\n+ Technical Guides\\n+ White Papers\\n+ Cyber Interviews, Tips & FAQ\\n* Company\\n+ About LIFARS\\n+ About SecurityScorecard\\n+ Notable Cases and Evidence Contribution\\n+ Meet the Team\\n+ Clients Advisory Board\\n+ LISIRT – Computer Security IR Team\\n+ Cyber Alliances\\n+ Insurance Panels\\n+ Cyber Events & Webinars\\n+ Cyber Press Room\\n+ Career in CyberSecurity\\n+ Cyber Security Training Videos\\n+ LIFARS SMS Alerts\\n+ Hackbits Podcast\\nExpert Tips: Privacy on Social Media\\n05/29/15\\nSocial media have taken over the Internet. People spend ever more time on Facebook, Twitter, LinkedIn, and others – but many forget (or are not concerned at all) about their privacy. Having presence on Internet ultimately builds a digital identity that is often different than the real person. Because your identity and image could be at stake, I have compiled this checklist to help you protect your privacy while indulging in social media.\\n1. Decide if your digital presence and persona is professional or individual – Having professional content in social media can assist your mission in carrier and business, while over-sharing personal data can trigger opposite effect.\\n2. Be aware of who you are sharing your information with – Customizing your settings in a way that you’re keeping strangers out and only sharing your information, posts and pictures with people in your inner circle goes a long way in protecting your privacy. Most websites will also give you the option to group friends into different categories, each of which gives you the option to limit or edit the kind of information shared. It’s advisable to take advantage of this option when available.\\n3. Remove any traces of yourself from Public Searches – Some websites grant you the ability to keep your profile from being found through a public search engine. If you’d like to remain hidden, look for this option to ensure you activate it. Many can find you easily just by your phone number.\\n4. Opt-out of check-ins – Many websites and apps allow you to check-in to geographic locations. Plenty of users don’t mind this option, while many actually choose to check-in publicly to let others know where they are. Remember however, that when you do tell others where you are, you’re also telling them where you aren’t – at home. Criminals can keep track of your activity to pick a time when you aren’t home and break-in. I recommend not checking in publicly.\\n5. Keep a close eye on social apps – There are plenty of apps which have access to your friends list, posts, pictures and other information. Manually editing the app privacy settings, either within the social website or each app individually on your phone to remove these intrusive permissions will help. I, for example, periodically go through my connected apps and remove the ones I no longer use.\\n6. Limit the amount of personal information you post – Personal information posted on public domains leaves you vulnerable. Abstaining from posting information such as your birth date, physical address among other details will keep away those meddling identity thieves. If you have friends and family posting information about you, ensure that it is information you are comfortable with strangers knowing about and nothing more.\\n7. Be wary of strangers – The internet makes it entirely easy for people to pose as someone they aren’t – misrepresenting their identities and motives. Consider privacy controls which limit the people who are allowed to contact you on social websites. When you interact with people you do not know, be careful with the amount of your personal information you reveal or even agreeing to meet a stranger in person.\\n8. Stay updated on Privacy Policy Changes on websites and Apps – Privacy policies are known to change frequently in social media websites so make sure you are aware of the policies and are regularly notified when updates happen. Reviewing your privacy settings often is also recommended.\\nWhat you need to build is a solid social media hygiene, where you are fully in control of how others see you in social media. At the end, you drive the destiny of your digital identity.\\nRelated Posts\\nShare this:\\n* Tweet\\n*\\n*\\n* Pocket\\n* WhatsApp\\n* Email\\n* Telegram\\n*\\n* Share on Tumblr\\n*\\n*\\n*\\n* Digital Forensics\\n+ Computer Forensics Services\\n+ LISIRT – LIFARS Computer Security Incident Response Team\\n+ Cyber Incident Response Retainer\\n+ Cyber Incident Response\\n+ Data Breach Response\\n+ Digital Forensics\\n+ Ransomware Response\\n+ Bitcoin Payments\\n* Cybersecurity\\n+ Proactive Cyber Security\\n+ Managed Cybersecurity Threat Hunting & Response Service\\n+ Post Ransomware Threat Hunting Services\\n+ The Daily TRUTH\\n+ Remote Worker Cyber Resilience\\n+ Penetration Testing\\n+ Secure Code Review\\n+ Cyber Threat Hunting\\n+ Phishing Attack Simulation\\n* Security Advisory\\n+ Cybersecurity Advisory and Consulting Services\\n+ CISO as a Service\\n+ Gap Assessment\\n+ Cyber Resilience Subscription\\n+ Compliance Advisory\\n+ Cloud Security Advisory Services\\n+ Tabletop Exercises\\n+ Cyber Resiliency Training\\n* Resources\\n+ Case Studies\\n+ Technical Tools\\n+ Technical Guides\\n+ White Papers\\n+ Cyber Interviews, Tips & FAQ\\n+ Cyber Events\\n+ Webinars\\n+ QuBit Conference\\n* Company\\n+ About Us\\n+ LIFARS Leadership\\n+ Alliances\\n+ Clients Advisory Board\\n+ Join US!\\n+ Video Gallery\\n+ Blog\\n+ Newsletter\\n+ Press Room\\n* Contact Us\\ncontact@lifars.com (212) 222-7061 LIFARS, LLC\\n244 Fifth Avenue\\nSuite 2035\\nNew York, NY 10001\\n© 2023 LIFARS, a SecurityScorecard company\\n* Privacy Policy\\n* Cookie Policy\\nWe use cookies to ensure that we give you the best experience on our website. If you continue to use this site we will assume that you are happy with it. Ok\\n\\nSource URL: \\n\\nhttps://www.lifars.com/2015/05/expert-tips-privacy-on-social-media/\\n\\n----------------------------------------------------------------------------------------------------\\n\\n'], 'recent_thesis_part': 'Social media has revolutionized communication and societal interactions, but it also presents significant challenges related to privacy.', 'iteration_counter': -4, 'final_response': '1. The World Health Organization (WHO) highlights the rapid spread of misinformation on social media, stating, \"falsehoods are 70% more likely to get shared than accurate news.\" This emphasizes the challenge of misinformation in the context of social media, supporting the thesis that social media presents significant challenges. [Source URL: https://www.who.int/teams/digital-health-and-innovation/digital-channels/combatting-misinformation-online]\\n\\n2. The NAMI article discusses the emotional difficulties associated with social media, noting, \"too much time online and too little time with others can have a negative impact on our mental health.\" This directly relates to the thesis by illustrating the mental health challenges posed by social media usage. [Source URL: https://www.nami.org/Your-Journey/Kids-Teens-and-Young-Adults/Teens/Social-Media-and-Mental-Health]\\n\\n3. The same NAMI article also addresses the issue of online bullying, stating, \"when this behavior happens on social media, it is generally viewed and even shared widely — making it difficult to reduce its impact.\" This supports the thesis by highlighting the societal interaction challenges that arise from social media. [Source URL: https://www.nami.org/Your-Journey/Kids-Teens-and-Young-Adults/Teens/Social-Media-and-Mental-Health]\\n\\n4. The LIFARS article provides a checklist for protecting privacy on social media, stating, \"decide if your digital presence and persona is professional or individual.\" This underscores the privacy challenges associated with social media, aligning with the thesis statement. [Source URL: https://www.lifars.com/2015/05/expert-tips-privacy-on-social-media/]\\n\\n5. The LIFARS article also advises users to \"limit the amount of personal information you post,\" which is crucial for maintaining privacy in the digital age. This advice supports the thesis by addressing the significant privacy challenges that social media users face. [Source URL: https://www.lifars.com/2015/05/expert-tips-privacy-on-social-media/]'}\n",
      "--------------------------------------------------\n",
      "1. The World Health Organization (WHO) highlights the rapid spread of misinformation on social media, stating, \"falsehoods are 70% more likely to get shared than accurate news.\" This emphasizes the challenge of misinformation in the context of social media, supporting the thesis that social media presents significant challenges. [Source URL: https://www.who.int/teams/digital-health-and-innovation/digital-channels/combatting-misinformation-online]\n",
      "\n",
      "2. The NAMI article discusses the emotional difficulties associated with social media, noting, \"too much time online and too little time with others can have a negative impact on our mental health.\" This directly relates to the thesis by illustrating the mental health challenges posed by social media usage. [Source URL: https://www.nami.org/Your-Journey/Kids-Teens-and-Young-Adults/Teens/Social-Media-and-Mental-Health]\n",
      "\n",
      "3. The same NAMI article also addresses the issue of online bullying, stating, \"when this behavior happens on social media, it is generally viewed and even shared widely — making it difficult to reduce its impact.\" This supports the thesis by highlighting the societal interaction challenges that arise from social media. [Source URL: https://www.nami.org/Your-Journey/Kids-Teens-and-Young-Adults/Teens/Social-Media-and-Mental-Health]\n",
      "\n",
      "4. The LIFARS article provides a checklist for protecting privacy on social media, stating, \"decide if your digital presence and persona is professional or individual.\" This underscores the privacy challenges associated with social media, aligning with the thesis statement. [Source URL: https://www.lifars.com/2015/05/expert-tips-privacy-on-social-media/]\n",
      "\n",
      "5. The LIFARS article also advises users to \"limit the amount of personal information you post,\" which is crucial for maintaining privacy in the digital age. This advice supports the thesis by addressing the significant privacy challenges that social media users face. [Source URL: https://www.lifars.com/2015/05/expert-tips-privacy-on-social-media/]\n"
     ]
    }
   ],
   "source": [
    "import uuid \n",
    "\n",
    "id = uuid.uuid1() \n",
    "\n",
    "uuid_int = id.int\n",
    "\n",
    "config_uuid = {\"configurable\": {\"thread_id\": f\"thesis_agent_example_{uuid_int}\"}}\n",
    "\n",
    "thesis_statement = [HumanMessage(content = \"Social media has revolutionized communication and societal interactions, but it also presents significant challenges related to privacy, mental health, and misinformation.\")]\n",
    "complete_message = graph.invoke({\"thesis\": thesis_statement}, config = config_uuid) \n",
    "\n",
    "print(complete_message) \n",
    "print(\"-\" * 50) \n",
    "print(complete_message[\"final_response\"])"
   ]
  }
 ],
 "metadata": {
  "kernelspec": {
   "display_name": "LangGraph_Project_1",
   "language": "python",
   "name": "python3"
  },
  "language_info": {
   "codemirror_mode": {
    "name": "ipython",
    "version": 3
   },
   "file_extension": ".py",
   "mimetype": "text/x-python",
   "name": "python",
   "nbconvert_exporter": "python",
   "pygments_lexer": "ipython3",
   "version": "3.11.9"
  }
 },
 "nbformat": 4,
 "nbformat_minor": 2
}
