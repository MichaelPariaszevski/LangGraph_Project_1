{
 "cells": [
  {
   "cell_type": "code",
   "execution_count": 1,
   "metadata": {},
   "outputs": [
    {
     "data": {
      "text/plain": [
       "True"
      ]
     },
     "execution_count": 1,
     "metadata": {},
     "output_type": "execute_result"
    }
   ],
   "source": [
    "from dotenv import load_dotenv, find_dotenv \n",
    "\n",
    "load_dotenv(find_dotenv(), override = True)"
   ]
  },
  {
   "cell_type": "code",
   "execution_count": 2,
   "metadata": {},
   "outputs": [],
   "source": [
    "from langchain_exa import ExaSearchRetriever\n",
    "\n",
    "exa_search_retriever = ExaSearchRetriever(k = 1, highlights = False, type = \"keyword\") "
   ]
  },
  {
   "cell_type": "code",
   "execution_count": 39,
   "metadata": {},
   "outputs": [
    {
     "name": "stdout",
     "output_type": "stream",
     "text": [
      "[Document(metadata={'title': 'Premier League Football News, Fixtures, Scores & Results', 'url': 'https://www.premierleague.com/', 'id': 'https://www.premierleague.com/', 'score': 0.15497928857803345, 'published_date': '2023-02-23T00:00:00.000Z', 'author': ''}, page_content='Video\\n \\n Ten of the best SUMMER SIGNINGS in Premier League history\\n  \\nAs the transfer window officially opens, we look back at the greatest ever signings, featuring Ronaldo, Salah, Kante and Henry')]\n"
     ]
    }
   ],
   "source": [
    "output =  exa_search_retriever.invoke(\"games, premier league\") \n",
    "\n",
    "print(output)"
   ]
  },
  {
   "cell_type": "code",
   "execution_count": 3,
   "metadata": {},
   "outputs": [],
   "source": [
    "from langchain_openai import ChatOpenAI \n",
    "\n",
    "llm = ChatOpenAI(model = \"gpt-4o-mini\", temperature = 0)"
   ]
  },
  {
   "cell_type": "code",
   "execution_count": 4,
   "metadata": {},
   "outputs": [],
   "source": [
    "from typing_extensions import TypedDict \n",
    "from typing import Annotated \n",
    "from operator import add \n",
    "\n",
    "class Custom_State(TypedDict): \n",
    "    question: str \n",
    "    answer: str \n",
    "    messages: Annotated[list[str], add]"
   ]
  },
  {
   "cell_type": "code",
   "execution_count": 23,
   "metadata": {},
   "outputs": [],
   "source": [
    "def exa_search_tool_1(keywords: str):\n",
    "    \"\"\"Search for context from online sources. \n",
    "    This search should use keywords as the input.\n",
    "    \n",
    "    Args: \n",
    "        keywords: input message\n",
    "    \"\"\"\n",
    "    exa_search_retriever = ExaSearchRetriever(k = 1, highlights = False, type = \"keyword\") \n",
    "    output = exa_search_retriever.invoke(keywords) \n",
    "    return output[0].page_content"
   ]
  },
  {
   "cell_type": "code",
   "execution_count": 6,
   "metadata": {},
   "outputs": [],
   "source": [
    "def exa_search_tool_2(keywords: str):\n",
    "    \n",
    "    \"\"\"Search for context from online sources. \n",
    "    This search should use keywords as the input.\n",
    "    \n",
    "    Args: \n",
    "        keywords: input message\n",
    "    \"\"\"\n",
    "    \n",
    "    return exa_search_retriever.invoke(keywords)[0].page_content"
   ]
  },
  {
   "cell_type": "code",
   "execution_count": 7,
   "metadata": {},
   "outputs": [],
   "source": [
    "from langchain_core.prompts import PromptTemplate \n",
    "from langchain_core.runnables import RunnableLambda\n",
    "from typing import List\n",
    "from langchain.tools import tool\n",
    "\n",
    "\n",
    "def exa_search_tool_3(query: str) -> List[str]:\n",
    "    \"\"\"Function to retrieve usable documents for AI assistant\"\"\"\n",
    "    # Initialize the Exa Search retriever\n",
    "    retriever = ExaSearchRetriever(k=1, highlights=True, use_autoprompt=True)\n",
    "\n",
    "    # Define how to extract relevant metadata from the search results\n",
    "    document_prompt = PromptTemplate.from_template(\n",
    "        \"\"\"\n",
    "    <source>\n",
    "        <url>{url}</url>\n",
    "        <highlights>{highlights}</highlights>\n",
    "    </source>\n",
    "    \"\"\"\n",
    "    )\n",
    "\n",
    "    # Create a chain to process the retrieved documents\n",
    "    document_chain = (\n",
    "        RunnableLambda(\n",
    "            lambda document: {\n",
    "                \"highlights\": document.metadata.get(\"highlights\", \"No highlights\"),\n",
    "                \"url\": document.metadata[\"url\"],\n",
    "            }\n",
    "        )\n",
    "        | document_prompt\n",
    "    )\n",
    "\n",
    "    # Execute the retrieval and processing chain\n",
    "    retrieval_chain = retriever | document_chain.map()\n",
    "\n",
    "    # Retrieve and return the documents\n",
    "    documents = retrieval_chain.invoke(query)\n",
    "    return documents"
   ]
  },
  {
   "cell_type": "code",
   "execution_count": 24,
   "metadata": {},
   "outputs": [],
   "source": [
    "# tools = [retrieve_web_content] \n",
    "\n",
    "llm_with_tools = ChatOpenAI(model = \"gpt-4o-mini\", temperature = 0).bind_tools([exa_search_tool_1])\n",
    "\n",
    "# print(exa_search_tool(\"what is the current weather in San Francisco?\"))"
   ]
  },
  {
   "cell_type": "code",
   "execution_count": 25,
   "metadata": {},
   "outputs": [],
   "source": [
    "from langchain_core.messages import SystemMessage, HumanMessage\n",
    "from langgraph.graph import MessagesState\n",
    "from langgraph.graph import StateGraph, START, END\n",
    "\n",
    "sys_msg = SystemMessage(content=\"You are a helpful assistant tasked with performing arithmetic on a set of inputs.\")\n",
    "\n",
    "def assistant_node(state: MessagesState): \n",
    "    return {\"messages\": [llm_with_tools.invoke([sys_msg] + state[\"messages\"])]}"
   ]
  },
  {
   "cell_type": "code",
   "execution_count": 26,
   "metadata": {},
   "outputs": [],
   "source": [
    "def tool_conditional_edge(state: MessagesState): \n",
    "    if hasattr(state[\"messages\"][-1], \"tool_calls\") and len(state[\"messages\"][-1].tool_calls) > 0: \n",
    "        return \"exa_tool\"  \n",
    "    else: \n",
    "        return END"
   ]
  },
  {
   "cell_type": "code",
   "execution_count": 29,
   "metadata": {},
   "outputs": [
    {
     "data": {
      "image/jpeg": "[encoded data removed]",
      "text/plain": [
       "<IPython.core.display.Image object>"
      ]
     },
     "metadata": {},
     "output_type": "display_data"
    }
   ],
   "source": [
    "from IPython.display import Image, display\n",
    "from langgraph.prebuilt import tools_condition, ToolNode\n",
    "\n",
    "builder = StateGraph(MessagesState)\n",
    "\n",
    "builder.add_node(\"assistant\", assistant_node) \n",
    "builder.add_node(\"exa_tool\", ToolNode([exa_search_tool_1]))\n",
    "\n",
    "builder.add_edge(START, \"assistant\")\n",
    "builder.add_conditional_edges(\"assistant\", tool_conditional_edge)\n",
    "builder.add_edge(\"exa_tool\", \"assistant\") \n",
    "\n",
    "graph = builder.compile() \n",
    "\n",
    "display(Image(graph.get_graph(xray = True).draw_mermaid_png()))"
   ]
  },
  {
   "cell_type": "code",
   "execution_count": 30,
   "metadata": {},
   "outputs": [],
   "source": [
    "messages = [HumanMessage(content = \"premier league games, October 2024\")] \n",
    "complete_message = graph.invoke({\"messages\": messages})"
   ]
  },
  {
   "cell_type": "code",
   "execution_count": 31,
   "metadata": {},
   "outputs": [
    {
     "name": "stdout",
     "output_type": "stream",
     "text": [
      "{'messages': [HumanMessage(content='premier league games, October 2024', additional_kwargs={}, response_metadata={}, id='30077813-4672-4c24-83d2-df4a6922dac8'), AIMessage(content='', additional_kwargs={'tool_calls': [{'id': 'call_RA4zgEVmHKzf8aL5cAaMhfWr', 'function': {'arguments': '{\"keywords\":\"Premier League fixtures October 2024\"}', 'name': 'exa_search_tool_1'}, 'type': 'function'}], 'refusal': None}, response_metadata={'token_usage': {'completion_tokens': 24, 'prompt_tokens': 85, 'total_tokens': 109, 'completion_tokens_details': {'audio_tokens': None, 'reasoning_tokens': 0}, 'prompt_tokens_details': {'audio_tokens': None, 'cached_tokens': 0}}, 'model_name': 'gpt-4o-mini-2024-07-18', 'system_fingerprint': 'fp_f85bea6784', 'finish_reason': 'tool_calls', 'logprobs': None}, id='run-43dba22e-e6e7-46a9-99ba-fe1e1ca08bd1-0', tool_calls=[{'name': 'exa_search_tool_1', 'args': {'keywords': 'Premier League fixtures October 2024'}, 'id': 'call_RA4zgEVmHKzf8aL5cAaMhfWr', 'type': 'tool_call'}], usage_metadata={'input_tokens': 85, 'output_tokens': 24, 'total_tokens': 109, 'input_token_details': {'cache_read': 0}, 'output_token_details': {'reasoning': 0}}), ToolMessage(content=\"Filter by Competition   Filter by Competition   Premier League   All Competitions Premier League Summer Series FA Cup EFL Cup UEFA Champions League UEFA Europa League UEFA Conference League       Filter by Club   Filter by Club   All Clubs   All Clubs Arsenal Aston Villa Bournemouth Brentford Brighton &amp; Hove Albion Chelsea Crystal Palace Everton Fulham Ipswich Town Leicester City Liverpool Manchester City Manchester United Newcastle United Nottingham Forest Southampton Tottenham Hotspur West Ham United Wolverhampton Wanderers     Filter Apply Filters  Reset Filters   \\n   Friday 16 August 2024 Fri 16 Aug 2024            Man Utd MUN     12:00     Fulham FUL       Old Trafford, Manchester       Quick View            Saturday 17 August 2024 Sat 17 Aug 2024            Ipswich IPS     04:30     Liverpool LIV       Portman Road, Ipswich       Quick View             Arsenal ARS     07:00     Wolves WOL       Emirates Stadium, London       Quick View             Everton EVE     07:00     Brighton BHA       Goodison Park, Liverpool       Quick View             Newcastle NEW     07:00     Southampton SOU       St. James' Park, Newcastle       Quick View             Nott'm Forest NFO     07:00     Bournemouth BOU       The City Ground, Nottingham       Quick View             West Ham WHU     09:30     Aston Villa AVL       London Stadium, London       Quick View            Sunday 18 August 2024 Sun 18 Aug 2024            Brentford BRE     06:00     Crystal Palace CRY       Gtech Community Stadium, Brentford       Quick View             Chelsea CHE     08:30     Man City MCI       Stamford Bridge, London       Quick View            Monday 19 August 2024 Mon 19 Aug 2024            Leicester LEI     12:00     Spurs TOT       King Power Stadium, Leicester       Quick View            Saturday 24 August 2024 Sat 24 Aug 2024            Brighton BHA     04:30     Man Utd MUN       American Express Stadium, Falmer       Quick View             Crystal Palace CRY     07:00     West Ham WHU       Selhurst Park, London       Quick View             Fulham FUL     07:00     Leicester LEI       Craven Cottage, London       Quick View             Man City MCI     07:00     Ipswich IPS       Etihad Stadium, Manchester       Quick View             Southampton SOU     07:00     Nott'm Forest NFO       St. Mary's Stadium, Southampton       Quick View             Spurs TOT     07:00     Everton EVE       Tottenham Hotspur Stadium, London       Quick View             Aston Villa AVL     09:30     Arsenal ARS       Villa Park, Birmingham       Quick View            Sunday 25 August 2024 Sun 25 Aug 2024            Bournemouth BOU     06:00     Newcastle NEW       Vitality Stadium, Bournemouth       Quick View             Wolves WOL     06:00     Chelsea CHE       Molineux Stadium, Wolverhampton       Quick View             Liverpool LIV     08:30     Brentford BRE       Anfield, Liverpool       Quick View\", name='exa_search_tool_1', id='46cf1ea6-062f-4775-a902-8496ec55fe1e', tool_call_id='call_RA4zgEVmHKzf8aL5cAaMhfWr'), AIMessage(content='', additional_kwargs={'tool_calls': [{'id': 'call_7jmtDFJApDOalNdP0R5czjFC', 'function': {'arguments': '{\"keywords\":\"Premier League schedule October 2024\"}', 'name': 'exa_search_tool_1'}, 'type': 'function'}], 'refusal': None}, response_metadata={'token_usage': {'completion_tokens': 24, 'prompt_tokens': 762, 'total_tokens': 786, 'completion_tokens_details': {'audio_tokens': None, 'reasoning_tokens': 0}, 'prompt_tokens_details': {'audio_tokens': None, 'cached_tokens': 0}}, 'model_name': 'gpt-4o-mini-2024-07-18', 'system_fingerprint': 'fp_e2bde53e6e', 'finish_reason': 'tool_calls', 'logprobs': None}, id='run-ad56487b-06cf-4948-8ca5-aeae8b6dced0-0', tool_calls=[{'name': 'exa_search_tool_1', 'args': {'keywords': 'Premier League schedule October 2024'}, 'id': 'call_7jmtDFJApDOalNdP0R5czjFC', 'type': 'tool_call'}], usage_metadata={'input_tokens': 762, 'output_tokens': 24, 'total_tokens': 786, 'input_token_details': {'cache_read': 0}, 'output_token_details': {'reasoning': 0}}), ToolMessage(content=\"Filter by Competition   Filter by Competition   Premier League   All Competitions Premier League Summer Series FA Cup EFL Cup UEFA Champions League UEFA Europa League UEFA Conference League       Filter by Club   Filter by Club   All Clubs   All Clubs Arsenal Aston Villa Bournemouth Brentford Brighton &amp; Hove Albion Chelsea Crystal Palace Everton Fulham Ipswich Town Leicester City Liverpool Manchester City Manchester United Newcastle United Nottingham Forest Southampton Tottenham Hotspur West Ham United Wolverhampton Wanderers     Filter Apply Filters  Reset Filters   \\n   Friday 16 August 2024 Fri 16 Aug 2024            Man Utd MUN     12:00     Fulham FUL       Old Trafford, Manchester       Quick View            Saturday 17 August 2024 Sat 17 Aug 2024            Ipswich IPS     04:30     Liverpool LIV       Portman Road, Ipswich       Quick View             Arsenal ARS     07:00     Wolves WOL       Emirates Stadium, London       Quick View             Everton EVE     07:00     Brighton BHA       Goodison Park, Liverpool       Quick View             Newcastle NEW     07:00     Southampton SOU       St. James' Park, Newcastle       Quick View             Nott'm Forest NFO     07:00     Bournemouth BOU       The City Ground, Nottingham       Quick View             West Ham WHU     09:30     Aston Villa AVL       London Stadium, London       Quick View            Sunday 18 August 2024 Sun 18 Aug 2024            Brentford BRE     06:00     Crystal Palace CRY       Gtech Community Stadium, Brentford       Quick View             Chelsea CHE     08:30     Man City MCI       Stamford Bridge, London       Quick View            Monday 19 August 2024 Mon 19 Aug 2024            Leicester LEI     12:00     Spurs TOT       King Power Stadium, Leicester       Quick View            Saturday 24 August 2024 Sat 24 Aug 2024            Brighton BHA     04:30     Man Utd MUN       American Express Stadium, Falmer       Quick View             Crystal Palace CRY     07:00     West Ham WHU       Selhurst Park, London       Quick View             Fulham FUL     07:00     Leicester LEI       Craven Cottage, London       Quick View             Man City MCI     07:00     Ipswich IPS       Etihad Stadium, Manchester       Quick View             Southampton SOU     07:00     Nott'm Forest NFO       St. Mary's Stadium, Southampton       Quick View             Spurs TOT     07:00     Everton EVE       Tottenham Hotspur Stadium, London       Quick View             Aston Villa AVL     09:30     Arsenal ARS       Villa Park, Birmingham       Quick View            Sunday 25 August 2024 Sun 25 Aug 2024            Bournemouth BOU     06:00     Newcastle NEW       Vitality Stadium, Bournemouth       Quick View             Wolves WOL     06:00     Chelsea CHE       Molineux Stadium, Wolverhampton       Quick View             Liverpool LIV     08:30     Brentford BRE       Anfield, Liverpool       Quick View\", name='exa_search_tool_1', id='3b00bc41-fe20-4566-b73f-81485094bd88', tool_call_id='call_7jmtDFJApDOalNdP0R5czjFC'), AIMessage(content=\"I couldn't find the specific fixtures for the Premier League in October 2024. However, you can typically find this information on official sports websites or the Premier League's official site closer to the date. If you have any other questions or need information on a different topic, feel free to ask!\", additional_kwargs={'refusal': None}, response_metadata={'token_usage': {'completion_tokens': 60, 'prompt_tokens': 1439, 'total_tokens': 1499, 'completion_tokens_details': {'audio_tokens': None, 'reasoning_tokens': 0}, 'prompt_tokens_details': {'audio_tokens': None, 'cached_tokens': 0}}, 'model_name': 'gpt-4o-mini-2024-07-18', 'system_fingerprint': 'fp_e2bde53e6e', 'finish_reason': 'stop', 'logprobs': None}, id='run-600712a6-189c-4629-a444-ed74af62ac98-0', usage_metadata={'input_tokens': 1439, 'output_tokens': 60, 'total_tokens': 1499, 'input_token_details': {'cache_read': 0}, 'output_token_details': {'reasoning': 0}})]}\n",
      "--------------------------------------------------\n",
      "I couldn't find the specific fixtures for the Premier League in October 2024. However, you can typically find this information on official sports websites or the Premier League's official site closer to the date. If you have any other questions or need information on a different topic, feel free to ask!\n"
     ]
    }
   ],
   "source": [
    "print(complete_message) \n",
    "print(\"-\" * 50) \n",
    "print(complete_message[\"messages\"][-1].content)"
   ]
  },
  {
   "cell_type": "markdown",
   "metadata": {},
   "source": [
    "# Second Graph (From Exa Documentation)"
   ]
  },
  {
   "cell_type": "code",
   "execution_count": 12,
   "metadata": {},
   "outputs": [],
   "source": [
    "llm_with_tools_2 = ChatOpenAI(model = \"gpt-4o-mini\", temperature = 0).bind_tools([exa_search_tool_3])"
   ]
  },
  {
   "cell_type": "code",
   "execution_count": 13,
   "metadata": {},
   "outputs": [],
   "source": [
    "# Determine whether to continue or end\n",
    "def should_continue(state: MessagesState):\n",
    "    messages = state[\"messages\"]\n",
    "    last_message = messages[-1]\n",
    "    return \"tools\" if last_message.tool_calls else END\n",
    "\n",
    "\n",
    "# Function to generate model responses\n",
    "def call_model(state: MessagesState):\n",
    "    messages = state[\"messages\"]\n",
    "    response = llm_with_tools_2.invoke(messages)\n",
    "    return {\"messages\": [response]}"
   ]
  },
  {
   "cell_type": "code",
   "execution_count": 14,
   "metadata": {},
   "outputs": [
    {
     "data": {
      "image/jpeg": "[encoded data removed]",
      "text/plain": [
       "<IPython.core.display.Image object>"
      ]
     },
     "metadata": {},
     "output_type": "display_data"
    }
   ],
   "source": [
    "workflow = StateGraph(MessagesState)\n",
    "workflow.add_node(\"agent\", call_model)\n",
    "workflow.add_node(\"tools\", ToolNode([exa_search_tool_3]))\n",
    "workflow.set_entry_point(\"agent\")\n",
    "workflow.add_conditional_edges(\"agent\", should_continue)\n",
    "workflow.add_edge(\"tools\", \"agent\")\n",
    "\n",
    "graph_2 = workflow.compile()\n",
    "\n",
    "display(Image(graph_2.get_graph(xray = True).draw_mermaid_png()))"
   ]
  },
  {
   "cell_type": "code",
   "execution_count": 15,
   "metadata": {},
   "outputs": [
    {
     "name": "stdout",
     "output_type": "stream",
     "text": [
      "I couldn't find the latest results specifically for Premier League games. However, you can check the latest updates on the Premier League by visiting sports news websites or the official Premier League site. If you have a specific match or team in mind, let me know, and I can help you find more detailed information!\n"
     ]
    }
   ],
   "source": [
    "final_state = graph_2.invoke({\"messages\": [HumanMessage(content=\"Latest premier league games\")]})\n",
    "print(final_state[\"messages\"][-1].content)"
   ]
  }
 ],
 "metadata": {
  "kernelspec": {
   "display_name": "LangGraph_Project_1",
   "language": "python",
   "name": "python3"
  },
  "language_info": {
   "codemirror_mode": {
    "name": "ipython",
    "version": 3
   },
   "file_extension": ".py",
   "mimetype": "text/x-python",
   "name": "python",
   "nbconvert_exporter": "python",
   "pygments_lexer": "ipython3",
   "version": "3.11.9"
  }
 },
 "nbformat": 4,
 "nbformat_minor": 2
}
