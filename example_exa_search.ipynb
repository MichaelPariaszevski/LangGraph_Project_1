{
 "cells": [
  {
   "cell_type": "code",
   "execution_count": 4,
   "metadata": {},
   "outputs": [
    {
     "name": "stdout",
     "output_type": "stream",
     "text": [
      "Here are some of the latest research papers on climate technology:\n",
      "\n",
      "1. **Title:** [European Green Deal and Net-Zero Emissions](https://www.nature.com/articles/s41467-024-52424-0)\n",
      "   - **Highlights:** This paper discusses the European Union's ambitious goal of achieving net-zero greenhouse gas emissions by 2050, the challenges of implementing various policy measures, and the interplay between technology options and social acceptance.\n",
      "\n",
      "2. **Title:** [RC Systems for Energy and Environment Challenges](https://arxiv.org/abs/2410.04109)\n",
      "   - **Highlights:** This research assesses the trade-offs between design and practical application for RC (Resource Conservation) systems, promoting RC-based technologies to address global energy and environmental challenges.\n",
      "\n",
      "3. **Title:** [Geoengineering Discussion](https://x.com/geoengineering1/status/1842468004635844816)\n",
      "   - **Highlights:** This source appears to be a conversation related to geoengineering, providing insights into ongoing discussions in the field.\n",
      "\n",
      "Feel free to explore these links for more detailed information on each paper!\n"
     ]
    }
   ],
   "source": [
    "from typing import List, Literal\n",
    "\n",
    "from langchain_openai import ChatOpenAI\n",
    "from langchain_core.messages import HumanMessage\n",
    "from langchain_core.prompts import PromptTemplate\n",
    "from langchain_core.runnables import RunnableLambda\n",
    "from langchain_core.tools import tool\n",
    "from langchain_exa import ExaSearchRetriever\n",
    "from langgraph.checkpoint.memory import MemorySaver\n",
    "from langgraph.graph import END, MessagesState, StateGraph\n",
    "from langgraph.prebuilt import ToolNode\n",
    "from IPython.display import Image, display\n",
    "\n",
    "\n",
    "\n",
    "def retrieve_web_content(query: str) -> List[str]:\n",
    "    \"\"\"Function to retrieve usable documents for AI assistant\"\"\"\n",
    "    # Initialize the Exa Search retriever\n",
    "    retriever = ExaSearchRetriever(k=3, highlights=True, use_autoprompt=True)\n",
    "\n",
    "    # Define how to extract relevant metadata from the search results\n",
    "    document_prompt = PromptTemplate.from_template(\n",
    "        \"\"\"\n",
    "    <source>\n",
    "        <url>{url}</url>\n",
    "        <highlights>{highlights}</highlights>\n",
    "    </source>\n",
    "    \"\"\"\n",
    "    )\n",
    "\n",
    "    # Create a chain to process the retrieved documents\n",
    "    document_chain = (\n",
    "        RunnableLambda(\n",
    "            lambda document: {\n",
    "                \"highlights\": document.metadata.get(\"highlights\", \"No highlights\"),\n",
    "                \"url\": document.metadata[\"url\"],\n",
    "            }\n",
    "        )\n",
    "        | document_prompt\n",
    "    )\n",
    "\n",
    "    # Execute the retrieval and processing chain\n",
    "    retrieval_chain = retriever | document_chain.map()\n",
    "\n",
    "    # Retrieve and return the documents\n",
    "    documents = retrieval_chain.invoke(query)\n",
    "    return documents\n",
    "\n",
    "\n",
    "# Define and bind the AI model\n",
    "model = ChatOpenAI(model=\"gpt-4o-mini\", temperature=0).bind_tools(\n",
    "    [retrieve_web_content]\n",
    ")\n",
    "\n",
    "\n",
    "# Determine whether to continue or end\n",
    "def should_continue(state: MessagesState):\n",
    "    messages = state[\"messages\"]\n",
    "    last_message = messages[-1]\n",
    "    return \"tools\" if last_message.tool_calls else END\n",
    "\n",
    "\n",
    "# Function to generate model responses\n",
    "def call_model(state: MessagesState):\n",
    "    messages = state[\"messages\"]\n",
    "    response = model.invoke(messages)\n",
    "    return {\"messages\": [response]}\n",
    "\n",
    "\n",
    "# Define the workflow graph\n",
    "workflow = StateGraph(MessagesState)\n",
    "workflow.add_node(\"agent\", call_model)\n",
    "workflow.add_node(\"tools\", ToolNode([retrieve_web_content]))\n",
    "workflow.set_entry_point(\"agent\")\n",
    "workflow.add_conditional_edges(\"agent\", should_continue)\n",
    "workflow.add_edge(\"tools\", \"agent\")\n",
    "\n",
    "# Initialize memory\n",
    "checkpointer = MemorySaver()\n",
    "\n",
    "# Compile the workflow into a runnable\n",
    "app = workflow.compile(checkpointer=checkpointer)\n",
    "\n",
    "final_state = app.invoke(\n",
    "    {\n",
    "        \"messages\": [\n",
    "            HumanMessage(content=\"Latest research papers on climate technology\")\n",
    "        ]\n",
    "    },\n",
    "    config={\"configurable\": {\"thread_id\": 44}},\n",
    ")\n",
    "print(final_state[\"messages\"][-1].content)"
   ]
  },
  {
   "cell_type": "code",
   "execution_count": 5,
   "metadata": {},
   "outputs": [
    {
     "data": {
      "image/jpeg": "[encoded data removed]",
      "text/plain": [
       "<IPython.core.display.Image object>"
      ]
     },
     "metadata": {},
     "output_type": "display_data"
    }
   ],
   "source": [
    "display(Image(app.get_graph(xray = True).draw_mermaid_png()))"
   ]
  }
 ],
 "metadata": {
  "kernelspec": {
   "display_name": "LangGraph_Project_1",
   "language": "python",
   "name": "python3"
  },
  "language_info": {
   "codemirror_mode": {
    "name": "ipython",
    "version": 3
   },
   "file_extension": ".py",
   "mimetype": "text/x-python",
   "name": "python",
   "nbconvert_exporter": "python",
   "pygments_lexer": "ipython3",
   "version": "3.11.9"
  }
 },
 "nbformat": 4,
 "nbformat_minor": 2
}
